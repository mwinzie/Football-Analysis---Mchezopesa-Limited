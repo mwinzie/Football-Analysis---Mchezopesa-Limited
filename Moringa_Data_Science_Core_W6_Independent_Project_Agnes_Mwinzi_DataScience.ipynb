{
  "nbformat": 4,
  "nbformat_minor": 0,
  "metadata": {
    "colab": {
      "name": "Moringa_Data_Science_Core_W6_Independent_Project_Agnes_Mwinzi_DataScience",
      "version": "0.3.2",
      "provenance": [],
      "collapsed_sections": [],
      "toc_visible": true,
      "include_colab_link": true
    },
    "kernelspec": {
      "name": "python3",
      "display_name": "Python 3"
    },
    "accelerator": "GPU"
  },
  "cells": [
    {
      "cell_type": "markdown",
      "metadata": {
        "id": "view-in-github",
        "colab_type": "text"
      },
      "source": [
        "<a href=\"https://colab.research.google.com/github/mwinzie/Football-Analysis-Mchezopesa-Limited/blob/master/Moringa_Data_Science_Core_W6_Independent_Project_Agnes_Mwinzi_DataScience.ipynb\" target=\"_parent\"><img src=\"https://colab.research.google.com/assets/colab-badge.svg\" alt=\"Open In Colab\"/></a>"
      ]
    },
    {
      "cell_type": "markdown",
      "metadata": {
        "id": "vTX8_5YGZVAn",
        "colab_type": "text"
      },
      "source": [
        "# Research Problem"
      ]
    },
    {
      "cell_type": "markdown",
      "metadata": {
        "id": "5GAU2nf7Ynfx",
        "colab_type": "text"
      },
      "source": [
        "\n",
        "The objective of this project is to come up with Prediction result of a game between team 1 and team 2, based on who's home and who's away, and on whether or not the game is friendly for Mchezopesa Ltd "
      ]
    },
    {
      "cell_type": "markdown",
      "metadata": {
        "id": "Yb2JNTXoZkO3",
        "colab_type": "text"
      },
      "source": [
        "## Metrics of Success"
      ]
    },
    {
      "cell_type": "markdown",
      "metadata": {
        "id": "YIz_kyDtZmNh",
        "colab_type": "text"
      },
      "source": [
        "## Experimental Design\n",
        "The following are steps I will follow in order to complete this project:\n",
        "1. Importing all the necessary libraries\n",
        "2. Loading the data set\n",
        "3. Read and clean the data set\n",
        "4. Exploratory Data Analysis\n",
        "5. Polynomial Regression\n",
        "6. Logistic Regression"
      ]
    },
    {
      "cell_type": "markdown",
      "metadata": {
        "id": "DKVJlh_dZ46N",
        "colab_type": "text"
      },
      "source": [
        "## Data Appropriateness\n",
        "The dataset contains information  about football game results from 1872 between countries and FIFA world ranking of the various countries that do play football. The FIFA dataset had data from the year 1993."
      ]
    },
    {
      "cell_type": "code",
      "metadata": {
        "id": "MzPwZs2cCrfO",
        "colab_type": "code",
        "colab": {}
      },
      "source": [
        "#loading the necessary libraries\n",
        "import pandas as pd\n",
        "import numpy as np\n",
        "import seaborn as sns\n",
        "import warnings\n",
        "warnings.filterwarnings('ignore')\n",
        "import datetime as dt\n",
        "from sklearn.model_selection import train_test_split\n",
        "import seaborn as sns\n",
        "import matplotlib.pyplot as plt\n",
        "%matplotlib inline\n",
        "from pandas.plotting import scatter_matrix\n",
        "from sklearn import preprocessing\n",
        "from sklearn.model_selection import GridSearchCV\n",
        "from sklearn.preprocessing import PolynomialFeatures\n",
        "from sklearn.linear_model import LinearRegression\n",
        "from sklearn.linear_model import LogisticRegression\n",
        "import statsmodels.api as sm\n",
        "import statsmodels.formula.api as smf\n",
        "from sklearn import metrics\n",
        "from sklearn.metrics import confusion_matrix\n",
        "from sklearn.metrics import accuracy_score"
      ],
      "execution_count": 0,
      "outputs": []
    },
    {
      "cell_type": "code",
      "metadata": {
        "id": "365qQ2B6DCAn",
        "colab_type": "code",
        "colab": {}
      },
      "source": [
        "#loading the datasets\n",
        "ranking = pd.read_csv('fifa_ranking.csv')\n",
        "results = pd.read_csv('results.csv')"
      ],
      "execution_count": 0,
      "outputs": []
    },
    {
      "cell_type": "code",
      "metadata": {
        "id": "_XRu3wgJfUmr",
        "colab_type": "code",
        "outputId": "d30c0e47-e9d1-4b34-860d-c0ef5a04f41b",
        "colab": {
          "base_uri": "https://localhost:8080/",
          "height": 87
        }
      },
      "source": [
        "#previewing the number of rows and columns that are in the datasets\n",
        "print(str(ranking.shape[0]) + ' rows and '+ str(ranking.shape[1]) + ' columns in the ranking dataset')\n",
        "print('\\n')\n",
        "print(str(results.shape[0]) + ' rows and '+ str(results.shape[1]) + ' columns in the results dataset')\n"
      ],
      "execution_count": 0,
      "outputs": [
        {
          "output_type": "stream",
          "text": [
            "57793 rows and 16 columns in the ranking dataset\n",
            "\n",
            "\n",
            "40839 rows and 9 columns in the results dataset\n"
          ],
          "name": "stdout"
        }
      ]
    },
    {
      "cell_type": "code",
      "metadata": {
        "id": "-MxFCgNWEGdx",
        "colab_type": "code",
        "outputId": "db6e33a9-d3a2-4206-cf4e-df2b8351fa49",
        "colab": {
          "base_uri": "https://localhost:8080/",
          "height": 161
        }
      },
      "source": [
        "#previewing the first two observations in the ranking dataset\n",
        "ranking.head(2)"
      ],
      "execution_count": 0,
      "outputs": [
        {
          "output_type": "execute_result",
          "data": {
            "text/html": [
              "<div>\n",
              "<style scoped>\n",
              "    .dataframe tbody tr th:only-of-type {\n",
              "        vertical-align: middle;\n",
              "    }\n",
              "\n",
              "    .dataframe tbody tr th {\n",
              "        vertical-align: top;\n",
              "    }\n",
              "\n",
              "    .dataframe thead th {\n",
              "        text-align: right;\n",
              "    }\n",
              "</style>\n",
              "<table border=\"1\" class=\"dataframe\">\n",
              "  <thead>\n",
              "    <tr style=\"text-align: right;\">\n",
              "      <th></th>\n",
              "      <th>rank</th>\n",
              "      <th>country_full</th>\n",
              "      <th>country_abrv</th>\n",
              "      <th>total_points</th>\n",
              "      <th>previous_points</th>\n",
              "      <th>rank_change</th>\n",
              "      <th>cur_year_avg</th>\n",
              "      <th>cur_year_avg_weighted</th>\n",
              "      <th>last_year_avg</th>\n",
              "      <th>last_year_avg_weighted</th>\n",
              "      <th>two_year_ago_avg</th>\n",
              "      <th>two_year_ago_weighted</th>\n",
              "      <th>three_year_ago_avg</th>\n",
              "      <th>three_year_ago_weighted</th>\n",
              "      <th>confederation</th>\n",
              "      <th>rank_date</th>\n",
              "    </tr>\n",
              "  </thead>\n",
              "  <tbody>\n",
              "    <tr>\n",
              "      <th>0</th>\n",
              "      <td>1</td>\n",
              "      <td>Germany</td>\n",
              "      <td>GER</td>\n",
              "      <td>0.0</td>\n",
              "      <td>57</td>\n",
              "      <td>0</td>\n",
              "      <td>0.0</td>\n",
              "      <td>0.0</td>\n",
              "      <td>0.0</td>\n",
              "      <td>0.0</td>\n",
              "      <td>0.0</td>\n",
              "      <td>0.0</td>\n",
              "      <td>0.0</td>\n",
              "      <td>0.0</td>\n",
              "      <td>UEFA</td>\n",
              "      <td>1993-08-08</td>\n",
              "    </tr>\n",
              "    <tr>\n",
              "      <th>1</th>\n",
              "      <td>2</td>\n",
              "      <td>Italy</td>\n",
              "      <td>ITA</td>\n",
              "      <td>0.0</td>\n",
              "      <td>57</td>\n",
              "      <td>0</td>\n",
              "      <td>0.0</td>\n",
              "      <td>0.0</td>\n",
              "      <td>0.0</td>\n",
              "      <td>0.0</td>\n",
              "      <td>0.0</td>\n",
              "      <td>0.0</td>\n",
              "      <td>0.0</td>\n",
              "      <td>0.0</td>\n",
              "      <td>UEFA</td>\n",
              "      <td>1993-08-08</td>\n",
              "    </tr>\n",
              "  </tbody>\n",
              "</table>\n",
              "</div>"
            ],
            "text/plain": [
              "   rank country_full  ... confederation   rank_date\n",
              "0     1      Germany  ...          UEFA  1993-08-08\n",
              "1     2        Italy  ...          UEFA  1993-08-08\n",
              "\n",
              "[2 rows x 16 columns]"
            ]
          },
          "metadata": {
            "tags": []
          },
          "execution_count": 23
        }
      ]
    },
    {
      "cell_type": "code",
      "metadata": {
        "id": "Evw4kTJZEYMo",
        "colab_type": "code",
        "outputId": "021d7eef-a25b-41c9-94e9-a3075dcaf2f5",
        "colab": {
          "base_uri": "https://localhost:8080/",
          "height": 107
        }
      },
      "source": [
        "#previewing the first two observations in the results dataset\n",
        "results.head(2)"
      ],
      "execution_count": 0,
      "outputs": [
        {
          "output_type": "execute_result",
          "data": {
            "text/html": [
              "<div>\n",
              "<style scoped>\n",
              "    .dataframe tbody tr th:only-of-type {\n",
              "        vertical-align: middle;\n",
              "    }\n",
              "\n",
              "    .dataframe tbody tr th {\n",
              "        vertical-align: top;\n",
              "    }\n",
              "\n",
              "    .dataframe thead th {\n",
              "        text-align: right;\n",
              "    }\n",
              "</style>\n",
              "<table border=\"1\" class=\"dataframe\">\n",
              "  <thead>\n",
              "    <tr style=\"text-align: right;\">\n",
              "      <th></th>\n",
              "      <th>date</th>\n",
              "      <th>home_team</th>\n",
              "      <th>away_team</th>\n",
              "      <th>home_score</th>\n",
              "      <th>away_score</th>\n",
              "      <th>tournament</th>\n",
              "      <th>city</th>\n",
              "      <th>country</th>\n",
              "      <th>neutral</th>\n",
              "    </tr>\n",
              "  </thead>\n",
              "  <tbody>\n",
              "    <tr>\n",
              "      <th>0</th>\n",
              "      <td>1872-11-30</td>\n",
              "      <td>Scotland</td>\n",
              "      <td>England</td>\n",
              "      <td>0</td>\n",
              "      <td>0</td>\n",
              "      <td>Friendly</td>\n",
              "      <td>Glasgow</td>\n",
              "      <td>Scotland</td>\n",
              "      <td>False</td>\n",
              "    </tr>\n",
              "    <tr>\n",
              "      <th>1</th>\n",
              "      <td>1873-03-08</td>\n",
              "      <td>England</td>\n",
              "      <td>Scotland</td>\n",
              "      <td>4</td>\n",
              "      <td>2</td>\n",
              "      <td>Friendly</td>\n",
              "      <td>London</td>\n",
              "      <td>England</td>\n",
              "      <td>False</td>\n",
              "    </tr>\n",
              "  </tbody>\n",
              "</table>\n",
              "</div>"
            ],
            "text/plain": [
              "         date home_team away_team  ...     city   country neutral\n",
              "0  1872-11-30  Scotland   England  ...  Glasgow  Scotland   False\n",
              "1  1873-03-08   England  Scotland  ...   London   England   False\n",
              "\n",
              "[2 rows x 9 columns]"
            ]
          },
          "metadata": {
            "tags": []
          },
          "execution_count": 24
        }
      ]
    },
    {
      "cell_type": "code",
      "metadata": {
        "id": "p9DPTEXyHbDE",
        "colab_type": "code",
        "colab": {}
      },
      "source": [
        "#creating a new column to show the results of the matches played, either a win or loss or draw\n",
        "winner = []\n",
        "for i in range(len(results['home_team'])):\n",
        "  if results['home_score'][i] > results['away_score'][i]:\n",
        "    winner.append('win')\n",
        "  elif results['home_score'][i] < results['away_score'][i]:\n",
        "    winner.append('lose')\n",
        "  else:\n",
        "    winner.append('draw')\n",
        "    \n",
        "results['game_result'] = winner"
      ],
      "execution_count": 0,
      "outputs": []
    },
    {
      "cell_type": "code",
      "metadata": {
        "id": "PCWFtUvOdps8",
        "colab_type": "code",
        "outputId": "d9a14a93-bc9a-4b68-d2a1-341ad9c98d11",
        "colab": {
          "base_uri": "https://localhost:8080/",
          "height": 107
        }
      },
      "source": [
        "#previewing the game result column has been added\n",
        "results.head(2)"
      ],
      "execution_count": 0,
      "outputs": [
        {
          "output_type": "execute_result",
          "data": {
            "text/html": [
              "<div>\n",
              "<style scoped>\n",
              "    .dataframe tbody tr th:only-of-type {\n",
              "        vertical-align: middle;\n",
              "    }\n",
              "\n",
              "    .dataframe tbody tr th {\n",
              "        vertical-align: top;\n",
              "    }\n",
              "\n",
              "    .dataframe thead th {\n",
              "        text-align: right;\n",
              "    }\n",
              "</style>\n",
              "<table border=\"1\" class=\"dataframe\">\n",
              "  <thead>\n",
              "    <tr style=\"text-align: right;\">\n",
              "      <th></th>\n",
              "      <th>date</th>\n",
              "      <th>home_team</th>\n",
              "      <th>away_team</th>\n",
              "      <th>home_score</th>\n",
              "      <th>away_score</th>\n",
              "      <th>tournament</th>\n",
              "      <th>city</th>\n",
              "      <th>country</th>\n",
              "      <th>neutral</th>\n",
              "      <th>game_result</th>\n",
              "    </tr>\n",
              "  </thead>\n",
              "  <tbody>\n",
              "    <tr>\n",
              "      <th>0</th>\n",
              "      <td>1872-11-30</td>\n",
              "      <td>Scotland</td>\n",
              "      <td>England</td>\n",
              "      <td>0</td>\n",
              "      <td>0</td>\n",
              "      <td>Friendly</td>\n",
              "      <td>Glasgow</td>\n",
              "      <td>Scotland</td>\n",
              "      <td>False</td>\n",
              "      <td>draw</td>\n",
              "    </tr>\n",
              "    <tr>\n",
              "      <th>1</th>\n",
              "      <td>1873-03-08</td>\n",
              "      <td>England</td>\n",
              "      <td>Scotland</td>\n",
              "      <td>4</td>\n",
              "      <td>2</td>\n",
              "      <td>Friendly</td>\n",
              "      <td>London</td>\n",
              "      <td>England</td>\n",
              "      <td>False</td>\n",
              "      <td>win</td>\n",
              "    </tr>\n",
              "  </tbody>\n",
              "</table>\n",
              "</div>"
            ],
            "text/plain": [
              "         date home_team away_team  ...   country  neutral game_result\n",
              "0  1872-11-30  Scotland   England  ...  Scotland    False        draw\n",
              "1  1873-03-08   England  Scotland  ...   England    False         win\n",
              "\n",
              "[2 rows x 10 columns]"
            ]
          },
          "metadata": {
            "tags": []
          },
          "execution_count": 8
        }
      ]
    },
    {
      "cell_type": "code",
      "metadata": {
        "id": "nhqoYw3U-0uV",
        "colab_type": "code",
        "outputId": "2baf198d-42bd-4935-9f88-941e73043ab1",
        "colab": {
          "base_uri": "https://localhost:8080/",
          "height": 710
        }
      },
      "source": [
        "#checking the informations contained in the datasets \n",
        "print(results.info())\n",
        "print('************************')\n",
        "print(ranking.info())"
      ],
      "execution_count": 0,
      "outputs": [
        {
          "output_type": "stream",
          "text": [
            "<class 'pandas.core.frame.DataFrame'>\n",
            "RangeIndex: 40839 entries, 0 to 40838\n",
            "Data columns (total 10 columns):\n",
            "date           40839 non-null object\n",
            "home_team      40839 non-null object\n",
            "away_team      40839 non-null object\n",
            "home_score     40839 non-null int64\n",
            "away_score     40839 non-null int64\n",
            "tournament     40839 non-null object\n",
            "city           40839 non-null object\n",
            "country        40839 non-null object\n",
            "neutral        40839 non-null bool\n",
            "game_result    40839 non-null object\n",
            "dtypes: bool(1), int64(2), object(7)\n",
            "memory usage: 2.8+ MB\n",
            "None\n",
            "************************\n",
            "<class 'pandas.core.frame.DataFrame'>\n",
            "RangeIndex: 57793 entries, 0 to 57792\n",
            "Data columns (total 16 columns):\n",
            "rank                       57793 non-null int64\n",
            "country_full               57793 non-null object\n",
            "country_abrv               57793 non-null object\n",
            "total_points               57793 non-null float64\n",
            "previous_points            57793 non-null int64\n",
            "rank_change                57793 non-null int64\n",
            "cur_year_avg               57793 non-null float64\n",
            "cur_year_avg_weighted      57793 non-null float64\n",
            "last_year_avg              57793 non-null float64\n",
            "last_year_avg_weighted     57793 non-null float64\n",
            "two_year_ago_avg           57793 non-null float64\n",
            "two_year_ago_weighted      57793 non-null float64\n",
            "three_year_ago_avg         57793 non-null float64\n",
            "three_year_ago_weighted    57793 non-null float64\n",
            "confederation              57793 non-null object\n",
            "rank_date                  57793 non-null object\n",
            "dtypes: float64(9), int64(3), object(4)\n",
            "memory usage: 7.1+ MB\n",
            "None\n"
          ],
          "name": "stdout"
        }
      ]
    },
    {
      "cell_type": "markdown",
      "metadata": {
        "id": "ctPDf_J4_Whc",
        "colab_type": "text"
      },
      "source": [
        "Here we get to see the datatypes of the columns in the datasets. The results dataset has 40,839 rows and 9 columns while the ranking dataset has 57,793 rows and 16 columns. \n",
        "\n",
        "From the data observations in the Fifa ranking csv(ranking dataset), ranking began in the year 1993, so the data before 1993 may not be useful in my model and prediction, hence I shall drop all observations below 1993 in the results dataset."
      ]
    },
    {
      "cell_type": "code",
      "metadata": {
        "id": "IUx9c7axAoyy",
        "colab_type": "code",
        "colab": {}
      },
      "source": [
        "#dropping rows in the results dataset that are below the year 1993.\n",
        "#I shall check for uniformity in the date column and then drop\n",
        "results['date'].unique().tolist()\n",
        "#converting the date column to date time datatype\n",
        "results.date = pd.to_datetime(results.date)"
      ],
      "execution_count": 0,
      "outputs": []
    },
    {
      "cell_type": "code",
      "metadata": {
        "id": "RLyyrSTJBzXb",
        "colab_type": "code",
        "outputId": "1478e13d-e94a-462a-94cd-189869cc0afd",
        "colab": {
          "base_uri": "https://localhost:8080/",
          "height": 212
        }
      },
      "source": [
        "#checking to confirm the datatype change\n",
        "results.dtypes"
      ],
      "execution_count": 0,
      "outputs": [
        {
          "output_type": "execute_result",
          "data": {
            "text/plain": [
              "date           datetime64[ns]\n",
              "home_team              object\n",
              "away_team              object\n",
              "home_score              int64\n",
              "away_score              int64\n",
              "tournament             object\n",
              "city                   object\n",
              "country                object\n",
              "neutral                  bool\n",
              "game_result            object\n",
              "dtype: object"
            ]
          },
          "metadata": {
            "tags": []
          },
          "execution_count": 11
        }
      ]
    },
    {
      "cell_type": "code",
      "metadata": {
        "id": "bCFCoJYECJSB",
        "colab_type": "code",
        "outputId": "2df81468-a88c-42c6-f087-b05326478eed",
        "colab": {
          "base_uri": "https://localhost:8080/",
          "height": 70
        }
      },
      "source": [
        "#previewing the observations in the date column in the results dataset\n",
        "results['date'].head(2)"
      ],
      "execution_count": 0,
      "outputs": [
        {
          "output_type": "execute_result",
          "data": {
            "text/plain": [
              "0   1872-11-30\n",
              "1   1873-03-08\n",
              "Name: date, dtype: datetime64[ns]"
            ]
          },
          "metadata": {
            "tags": []
          },
          "execution_count": 83
        }
      ]
    },
    {
      "cell_type": "code",
      "metadata": {
        "id": "-Ey8H8A3DePg",
        "colab_type": "code",
        "outputId": "5cf23aa3-75a7-4521-c150-8a1873a664aa",
        "colab": {
          "base_uri": "https://localhost:8080/",
          "height": 107
        }
      },
      "source": [
        "results.head(2)"
      ],
      "execution_count": 0,
      "outputs": [
        {
          "output_type": "execute_result",
          "data": {
            "text/html": [
              "<div>\n",
              "<style scoped>\n",
              "    .dataframe tbody tr th:only-of-type {\n",
              "        vertical-align: middle;\n",
              "    }\n",
              "\n",
              "    .dataframe tbody tr th {\n",
              "        vertical-align: top;\n",
              "    }\n",
              "\n",
              "    .dataframe thead th {\n",
              "        text-align: right;\n",
              "    }\n",
              "</style>\n",
              "<table border=\"1\" class=\"dataframe\">\n",
              "  <thead>\n",
              "    <tr style=\"text-align: right;\">\n",
              "      <th></th>\n",
              "      <th>date</th>\n",
              "      <th>home_team</th>\n",
              "      <th>away_team</th>\n",
              "      <th>home_score</th>\n",
              "      <th>away_score</th>\n",
              "      <th>tournament</th>\n",
              "      <th>city</th>\n",
              "      <th>country</th>\n",
              "      <th>neutral</th>\n",
              "      <th>game_result</th>\n",
              "    </tr>\n",
              "  </thead>\n",
              "  <tbody>\n",
              "    <tr>\n",
              "      <th>0</th>\n",
              "      <td>1872-11-30</td>\n",
              "      <td>Scotland</td>\n",
              "      <td>England</td>\n",
              "      <td>0</td>\n",
              "      <td>0</td>\n",
              "      <td>Friendly</td>\n",
              "      <td>Glasgow</td>\n",
              "      <td>Scotland</td>\n",
              "      <td>False</td>\n",
              "      <td>draw</td>\n",
              "    </tr>\n",
              "    <tr>\n",
              "      <th>1</th>\n",
              "      <td>1873-03-08</td>\n",
              "      <td>England</td>\n",
              "      <td>Scotland</td>\n",
              "      <td>4</td>\n",
              "      <td>2</td>\n",
              "      <td>Friendly</td>\n",
              "      <td>London</td>\n",
              "      <td>England</td>\n",
              "      <td>False</td>\n",
              "      <td>win</td>\n",
              "    </tr>\n",
              "  </tbody>\n",
              "</table>\n",
              "</div>"
            ],
            "text/plain": [
              "        date home_team away_team  ...   country  neutral game_result\n",
              "0 1872-11-30  Scotland   England  ...  Scotland    False        draw\n",
              "1 1873-03-08   England  Scotland  ...   England    False         win\n",
              "\n",
              "[2 rows x 10 columns]"
            ]
          },
          "metadata": {
            "tags": []
          },
          "execution_count": 12
        }
      ]
    },
    {
      "cell_type": "code",
      "metadata": {
        "id": "tzeqBTjvCJQP",
        "colab_type": "code",
        "colab": {}
      },
      "source": [
        "#deleting the rows that are below 1993, when FIFA started ranking the teams\n",
        "#results['year'] = results(['year']< 1993).dropna(how = 'all')\n",
        "results = results.drop(results[(results.date < '1993-08-08')] .index)\n"
      ],
      "execution_count": 0,
      "outputs": []
    },
    {
      "cell_type": "code",
      "metadata": {
        "id": "oYGFcBzPGVaR",
        "colab_type": "code",
        "outputId": "3e674882-7be6-4807-d573-f85869474081",
        "colab": {
          "base_uri": "https://localhost:8080/",
          "height": 197
        }
      },
      "source": [
        "#previewing to see that the dates above 1993-08-08 have been dropped\n",
        "results.head()"
      ],
      "execution_count": 0,
      "outputs": [
        {
          "output_type": "execute_result",
          "data": {
            "text/html": [
              "<div>\n",
              "<style scoped>\n",
              "    .dataframe tbody tr th:only-of-type {\n",
              "        vertical-align: middle;\n",
              "    }\n",
              "\n",
              "    .dataframe tbody tr th {\n",
              "        vertical-align: top;\n",
              "    }\n",
              "\n",
              "    .dataframe thead th {\n",
              "        text-align: right;\n",
              "    }\n",
              "</style>\n",
              "<table border=\"1\" class=\"dataframe\">\n",
              "  <thead>\n",
              "    <tr style=\"text-align: right;\">\n",
              "      <th></th>\n",
              "      <th>date</th>\n",
              "      <th>home_team</th>\n",
              "      <th>away_team</th>\n",
              "      <th>home_score</th>\n",
              "      <th>away_score</th>\n",
              "      <th>tournament</th>\n",
              "      <th>city</th>\n",
              "      <th>country</th>\n",
              "      <th>neutral</th>\n",
              "      <th>game_result</th>\n",
              "    </tr>\n",
              "  </thead>\n",
              "  <tbody>\n",
              "    <tr>\n",
              "      <th>17915</th>\n",
              "      <td>1993-08-08</td>\n",
              "      <td>Bolivia</td>\n",
              "      <td>Uruguay</td>\n",
              "      <td>3</td>\n",
              "      <td>1</td>\n",
              "      <td>FIFA World Cup qualification</td>\n",
              "      <td>La Paz</td>\n",
              "      <td>Bolivia</td>\n",
              "      <td>False</td>\n",
              "      <td>win</td>\n",
              "    </tr>\n",
              "    <tr>\n",
              "      <th>17916</th>\n",
              "      <td>1993-08-08</td>\n",
              "      <td>Brazil</td>\n",
              "      <td>Mexico</td>\n",
              "      <td>1</td>\n",
              "      <td>1</td>\n",
              "      <td>Friendly</td>\n",
              "      <td>Maceió</td>\n",
              "      <td>Brazil</td>\n",
              "      <td>False</td>\n",
              "      <td>draw</td>\n",
              "    </tr>\n",
              "    <tr>\n",
              "      <th>17917</th>\n",
              "      <td>1993-08-08</td>\n",
              "      <td>Ecuador</td>\n",
              "      <td>Venezuela</td>\n",
              "      <td>5</td>\n",
              "      <td>0</td>\n",
              "      <td>FIFA World Cup qualification</td>\n",
              "      <td>Quito</td>\n",
              "      <td>Ecuador</td>\n",
              "      <td>False</td>\n",
              "      <td>win</td>\n",
              "    </tr>\n",
              "    <tr>\n",
              "      <th>17918</th>\n",
              "      <td>1993-08-08</td>\n",
              "      <td>Guinea</td>\n",
              "      <td>Sierra Leone</td>\n",
              "      <td>1</td>\n",
              "      <td>0</td>\n",
              "      <td>Friendly</td>\n",
              "      <td>Conakry</td>\n",
              "      <td>Guinea</td>\n",
              "      <td>False</td>\n",
              "      <td>win</td>\n",
              "    </tr>\n",
              "    <tr>\n",
              "      <th>17919</th>\n",
              "      <td>1993-08-08</td>\n",
              "      <td>Paraguay</td>\n",
              "      <td>Argentina</td>\n",
              "      <td>1</td>\n",
              "      <td>3</td>\n",
              "      <td>FIFA World Cup qualification</td>\n",
              "      <td>Asunción</td>\n",
              "      <td>Paraguay</td>\n",
              "      <td>False</td>\n",
              "      <td>lose</td>\n",
              "    </tr>\n",
              "  </tbody>\n",
              "</table>\n",
              "</div>"
            ],
            "text/plain": [
              "            date home_team     away_team  ...   country  neutral game_result\n",
              "17915 1993-08-08   Bolivia       Uruguay  ...   Bolivia    False         win\n",
              "17916 1993-08-08    Brazil        Mexico  ...    Brazil    False        draw\n",
              "17917 1993-08-08   Ecuador     Venezuela  ...   Ecuador    False         win\n",
              "17918 1993-08-08    Guinea  Sierra Leone  ...    Guinea    False         win\n",
              "17919 1993-08-08  Paraguay     Argentina  ...  Paraguay    False        lose\n",
              "\n",
              "[5 rows x 10 columns]"
            ]
          },
          "metadata": {
            "tags": []
          },
          "execution_count": 14
        }
      ]
    },
    {
      "cell_type": "markdown",
      "metadata": {
        "id": "Z8TVFBKQh6Fz",
        "colab_type": "text"
      },
      "source": [
        "## Data Cleaning of the ranking dataset"
      ]
    },
    {
      "cell_type": "code",
      "metadata": {
        "id": "iYSm0E9PFT6p",
        "colab_type": "code",
        "outputId": "d584b27e-1008-4a71-82e6-30f149aea21d",
        "colab": {
          "base_uri": "https://localhost:8080/",
          "height": 123
        }
      },
      "source": [
        "#checking the columns in the ranking dataset\n",
        "ranking.columns"
      ],
      "execution_count": 0,
      "outputs": [
        {
          "output_type": "execute_result",
          "data": {
            "text/plain": [
              "Index(['rank', 'country_full', 'country_abrv', 'total_points',\n",
              "       'previous_points', 'rank_change', 'cur_year_avg',\n",
              "       'cur_year_avg_weighted', 'last_year_avg', 'last_year_avg_weighted',\n",
              "       'two_year_ago_avg', 'two_year_ago_weighted', 'three_year_ago_avg',\n",
              "       'three_year_ago_weighted', 'confederation', 'rank_date'],\n",
              "      dtype='object')"
            ]
          },
          "metadata": {
            "tags": []
          },
          "execution_count": 10
        }
      ]
    },
    {
      "cell_type": "code",
      "metadata": {
        "id": "FnVbVR3tjco1",
        "colab_type": "code",
        "outputId": "8d2fc685-0979-450b-fc70-7eca0b370a4a",
        "colab": {
          "base_uri": "https://localhost:8080/",
          "height": 318
        }
      },
      "source": [
        "#checking if there exists any null values\n",
        "ranking.isnull().any()\n",
        "#the dataset does not have any null values"
      ],
      "execution_count": 0,
      "outputs": [
        {
          "output_type": "execute_result",
          "data": {
            "text/plain": [
              "rank                       False\n",
              "country_full               False\n",
              "country_abrv               False\n",
              "total_points               False\n",
              "previous_points            False\n",
              "rank_change                False\n",
              "cur_year_avg               False\n",
              "cur_year_avg_weighted      False\n",
              "last_year_avg              False\n",
              "last_year_avg_weighted     False\n",
              "two_year_ago_avg           False\n",
              "two_year_ago_weighted      False\n",
              "three_year_ago_avg         False\n",
              "three_year_ago_weighted    False\n",
              "confederation              False\n",
              "rank_date                  False\n",
              "dtype: bool"
            ]
          },
          "metadata": {
            "tags": []
          },
          "execution_count": 192
        }
      ]
    },
    {
      "cell_type": "markdown",
      "metadata": {
        "id": "h9cXh6bkjRL7",
        "colab_type": "text"
      },
      "source": [
        "## Data Cleaning of the Results and Ranking datasets"
      ]
    },
    {
      "cell_type": "code",
      "metadata": {
        "id": "ZcDmUePjjQAP",
        "colab_type": "code",
        "outputId": "8fa07de8-5b20-45fb-d9ad-5486f29d2285",
        "colab": {
          "base_uri": "https://localhost:8080/",
          "height": 70
        }
      },
      "source": [
        "#checking the column names in the results dataset\n",
        "results.columns"
      ],
      "execution_count": 0,
      "outputs": [
        {
          "output_type": "execute_result",
          "data": {
            "text/plain": [
              "Index(['date', 'home_team', 'away_team', 'home_score', 'away_score',\n",
              "       'tournament', 'city', 'country', 'neutral'],\n",
              "      dtype='object')"
            ]
          },
          "metadata": {
            "tags": []
          },
          "execution_count": 11
        }
      ]
    },
    {
      "cell_type": "code",
      "metadata": {
        "id": "ibCcJbcaiCJw",
        "colab_type": "code",
        "outputId": "8cf1aaf5-f86a-4537-a7be-c9c8293671f9",
        "colab": {
          "base_uri": "https://localhost:8080/",
          "height": 194
        }
      },
      "source": [
        "#checking if there exists any null values\n",
        "results.isnull().any()\n",
        "#the dataset does not have any null values"
      ],
      "execution_count": 0,
      "outputs": [
        {
          "output_type": "execute_result",
          "data": {
            "text/plain": [
              "date          False\n",
              "home_team     False\n",
              "away_team     False\n",
              "home_score    False\n",
              "away_score    False\n",
              "tournament    False\n",
              "city          False\n",
              "country       False\n",
              "neutral       False\n",
              "dtype: bool"
            ]
          },
          "metadata": {
            "tags": []
          },
          "execution_count": 14
        }
      ]
    },
    {
      "cell_type": "code",
      "metadata": {
        "id": "WXqBKYR8KjsI",
        "colab_type": "code",
        "outputId": "15e4393e-b9a8-4da7-894e-1afc0f8a95a3",
        "colab": {
          "base_uri": "https://localhost:8080/",
          "height": 70
        }
      },
      "source": [
        "results.columns"
      ],
      "execution_count": 0,
      "outputs": [
        {
          "output_type": "execute_result",
          "data": {
            "text/plain": [
              "Index(['date', 'home_team', 'away_team', 'home_score', 'away_score',\n",
              "       'tournament', 'city', 'country', 'neutral', 'year', 'month'],\n",
              "      dtype='object')"
            ]
          },
          "metadata": {
            "tags": []
          },
          "execution_count": 47
        }
      ]
    },
    {
      "cell_type": "code",
      "metadata": {
        "id": "4VtfxvMlKn-r",
        "colab_type": "code",
        "outputId": "ba3137a4-7c0e-4c71-a34a-8f3d988fce45",
        "colab": {
          "base_uri": "https://localhost:8080/",
          "height": 212
        }
      },
      "source": [
        "results.dtypes"
      ],
      "execution_count": 0,
      "outputs": [
        {
          "output_type": "execute_result",
          "data": {
            "text/plain": [
              "date            datetime64[ns]\n",
              "home_team               object\n",
              "away_team               object\n",
              "home_score               int64\n",
              "away_score               int64\n",
              "tournament              object\n",
              "city                    object\n",
              "country                 object\n",
              "neutral                   bool\n",
              "winning_team            object\n",
              "dtype: object"
            ]
          },
          "metadata": {
            "tags": []
          },
          "execution_count": 27
        }
      ]
    },
    {
      "cell_type": "code",
      "metadata": {
        "id": "GfF__vskjo6h",
        "colab_type": "code",
        "colab": {}
      },
      "source": [
        "#separate date column to month and year for results dataset\n",
        "results['month']= results.date.dt.month\n",
        "results['year']=results.date.dt.year"
      ],
      "execution_count": 0,
      "outputs": []
    },
    {
      "cell_type": "code",
      "metadata": {
        "id": "A55xko5TLXBZ",
        "colab_type": "code",
        "outputId": "60bde220-be41-4c80-9160-35f1f3a491f5",
        "colab": {
          "base_uri": "https://localhost:8080/",
          "height": 197
        }
      },
      "source": [
        "#previewing the dataset\n",
        "results.head()"
      ],
      "execution_count": 0,
      "outputs": [
        {
          "output_type": "execute_result",
          "data": {
            "text/html": [
              "<div>\n",
              "<style scoped>\n",
              "    .dataframe tbody tr th:only-of-type {\n",
              "        vertical-align: middle;\n",
              "    }\n",
              "\n",
              "    .dataframe tbody tr th {\n",
              "        vertical-align: top;\n",
              "    }\n",
              "\n",
              "    .dataframe thead th {\n",
              "        text-align: right;\n",
              "    }\n",
              "</style>\n",
              "<table border=\"1\" class=\"dataframe\">\n",
              "  <thead>\n",
              "    <tr style=\"text-align: right;\">\n",
              "      <th></th>\n",
              "      <th>date</th>\n",
              "      <th>home_team</th>\n",
              "      <th>away_team</th>\n",
              "      <th>home_score</th>\n",
              "      <th>away_score</th>\n",
              "      <th>tournament</th>\n",
              "      <th>city</th>\n",
              "      <th>country</th>\n",
              "      <th>neutral</th>\n",
              "      <th>game_result</th>\n",
              "      <th>month</th>\n",
              "      <th>year</th>\n",
              "    </tr>\n",
              "  </thead>\n",
              "  <tbody>\n",
              "    <tr>\n",
              "      <th>17915</th>\n",
              "      <td>1993-08-08</td>\n",
              "      <td>Bolivia</td>\n",
              "      <td>Uruguay</td>\n",
              "      <td>3</td>\n",
              "      <td>1</td>\n",
              "      <td>FIFA World Cup qualification</td>\n",
              "      <td>La Paz</td>\n",
              "      <td>Bolivia</td>\n",
              "      <td>False</td>\n",
              "      <td>win</td>\n",
              "      <td>8</td>\n",
              "      <td>1993</td>\n",
              "    </tr>\n",
              "    <tr>\n",
              "      <th>17916</th>\n",
              "      <td>1993-08-08</td>\n",
              "      <td>Brazil</td>\n",
              "      <td>Mexico</td>\n",
              "      <td>1</td>\n",
              "      <td>1</td>\n",
              "      <td>Friendly</td>\n",
              "      <td>Maceió</td>\n",
              "      <td>Brazil</td>\n",
              "      <td>False</td>\n",
              "      <td>draw</td>\n",
              "      <td>8</td>\n",
              "      <td>1993</td>\n",
              "    </tr>\n",
              "    <tr>\n",
              "      <th>17917</th>\n",
              "      <td>1993-08-08</td>\n",
              "      <td>Ecuador</td>\n",
              "      <td>Venezuela</td>\n",
              "      <td>5</td>\n",
              "      <td>0</td>\n",
              "      <td>FIFA World Cup qualification</td>\n",
              "      <td>Quito</td>\n",
              "      <td>Ecuador</td>\n",
              "      <td>False</td>\n",
              "      <td>win</td>\n",
              "      <td>8</td>\n",
              "      <td>1993</td>\n",
              "    </tr>\n",
              "    <tr>\n",
              "      <th>17918</th>\n",
              "      <td>1993-08-08</td>\n",
              "      <td>Guinea</td>\n",
              "      <td>Sierra Leone</td>\n",
              "      <td>1</td>\n",
              "      <td>0</td>\n",
              "      <td>Friendly</td>\n",
              "      <td>Conakry</td>\n",
              "      <td>Guinea</td>\n",
              "      <td>False</td>\n",
              "      <td>win</td>\n",
              "      <td>8</td>\n",
              "      <td>1993</td>\n",
              "    </tr>\n",
              "    <tr>\n",
              "      <th>17919</th>\n",
              "      <td>1993-08-08</td>\n",
              "      <td>Paraguay</td>\n",
              "      <td>Argentina</td>\n",
              "      <td>1</td>\n",
              "      <td>3</td>\n",
              "      <td>FIFA World Cup qualification</td>\n",
              "      <td>Asunción</td>\n",
              "      <td>Paraguay</td>\n",
              "      <td>False</td>\n",
              "      <td>lose</td>\n",
              "      <td>8</td>\n",
              "      <td>1993</td>\n",
              "    </tr>\n",
              "  </tbody>\n",
              "</table>\n",
              "</div>"
            ],
            "text/plain": [
              "            date home_team     away_team  ...  game_result  month  year\n",
              "17915 1993-08-08   Bolivia       Uruguay  ...          win      8  1993\n",
              "17916 1993-08-08    Brazil        Mexico  ...         draw      8  1993\n",
              "17917 1993-08-08   Ecuador     Venezuela  ...          win      8  1993\n",
              "17918 1993-08-08    Guinea  Sierra Leone  ...          win      8  1993\n",
              "17919 1993-08-08  Paraguay     Argentina  ...         lose      8  1993\n",
              "\n",
              "[5 rows x 12 columns]"
            ]
          },
          "metadata": {
            "tags": []
          },
          "execution_count": 16
        }
      ]
    },
    {
      "cell_type": "code",
      "metadata": {
        "id": "sL7XCSBhOQko",
        "colab_type": "code",
        "colab": {}
      },
      "source": [
        "#creating a column for matches showing what team played what team\n",
        "results['game'] = results['home_team'] +' '+ ' vs ' + ' ' + results['away_team']"
      ],
      "execution_count": 0,
      "outputs": []
    },
    {
      "cell_type": "code",
      "metadata": {
        "id": "rivBHiOpOTQS",
        "colab_type": "code",
        "outputId": "ff90c5dc-1af5-4302-d2c7-190323f80e4e",
        "colab": {
          "base_uri": "https://localhost:8080/",
          "height": 107
        }
      },
      "source": [
        "results.head(2)"
      ],
      "execution_count": 0,
      "outputs": [
        {
          "output_type": "execute_result",
          "data": {
            "text/html": [
              "<div>\n",
              "<style scoped>\n",
              "    .dataframe tbody tr th:only-of-type {\n",
              "        vertical-align: middle;\n",
              "    }\n",
              "\n",
              "    .dataframe tbody tr th {\n",
              "        vertical-align: top;\n",
              "    }\n",
              "\n",
              "    .dataframe thead th {\n",
              "        text-align: right;\n",
              "    }\n",
              "</style>\n",
              "<table border=\"1\" class=\"dataframe\">\n",
              "  <thead>\n",
              "    <tr style=\"text-align: right;\">\n",
              "      <th></th>\n",
              "      <th>date</th>\n",
              "      <th>home_team</th>\n",
              "      <th>away_team</th>\n",
              "      <th>home_score</th>\n",
              "      <th>away_score</th>\n",
              "      <th>tournament</th>\n",
              "      <th>city</th>\n",
              "      <th>country</th>\n",
              "      <th>neutral</th>\n",
              "      <th>game_result</th>\n",
              "      <th>month</th>\n",
              "      <th>year</th>\n",
              "      <th>game</th>\n",
              "    </tr>\n",
              "  </thead>\n",
              "  <tbody>\n",
              "    <tr>\n",
              "      <th>17915</th>\n",
              "      <td>1993-08-08</td>\n",
              "      <td>Bolivia</td>\n",
              "      <td>Uruguay</td>\n",
              "      <td>3</td>\n",
              "      <td>1</td>\n",
              "      <td>FIFA World Cup qualification</td>\n",
              "      <td>La Paz</td>\n",
              "      <td>Bolivia</td>\n",
              "      <td>False</td>\n",
              "      <td>win</td>\n",
              "      <td>8</td>\n",
              "      <td>1993</td>\n",
              "      <td>Bolivia  vs  Uruguay</td>\n",
              "    </tr>\n",
              "    <tr>\n",
              "      <th>17916</th>\n",
              "      <td>1993-08-08</td>\n",
              "      <td>Brazil</td>\n",
              "      <td>Mexico</td>\n",
              "      <td>1</td>\n",
              "      <td>1</td>\n",
              "      <td>Friendly</td>\n",
              "      <td>Maceió</td>\n",
              "      <td>Brazil</td>\n",
              "      <td>False</td>\n",
              "      <td>draw</td>\n",
              "      <td>8</td>\n",
              "      <td>1993</td>\n",
              "      <td>Brazil  vs  Mexico</td>\n",
              "    </tr>\n",
              "  </tbody>\n",
              "</table>\n",
              "</div>"
            ],
            "text/plain": [
              "            date home_team away_team  ...  month  year                  game\n",
              "17915 1993-08-08   Bolivia   Uruguay  ...      8  1993  Bolivia  vs  Uruguay\n",
              "17916 1993-08-08    Brazil    Mexico  ...      8  1993    Brazil  vs  Mexico\n",
              "\n",
              "[2 rows x 13 columns]"
            ]
          },
          "metadata": {
            "tags": []
          },
          "execution_count": 18
        }
      ]
    },
    {
      "cell_type": "code",
      "metadata": {
        "id": "c9rkRZI7MU2e",
        "colab_type": "code",
        "outputId": "e3770e82-2519-417c-faa9-d4c0c4dc0017",
        "colab": {
          "base_uri": "https://localhost:8080/",
          "height": 123
        }
      },
      "source": [
        "ranking.columns"
      ],
      "execution_count": 0,
      "outputs": [
        {
          "output_type": "execute_result",
          "data": {
            "text/plain": [
              "Index(['rank', 'country_full', 'country_abrv', 'total_points',\n",
              "       'previous_points', 'rank_change', 'cur_year_avg',\n",
              "       'cur_year_avg_weighted', 'last_year_avg', 'last_year_avg_weighted',\n",
              "       'two_year_ago_avg', 'two_year_ago_weighted', 'three_year_ago_avg',\n",
              "       'three_year_ago_weighted', 'confederation', 'rank_date'],\n",
              "      dtype='object')"
            ]
          },
          "metadata": {
            "tags": []
          },
          "execution_count": 35
        }
      ]
    },
    {
      "cell_type": "code",
      "metadata": {
        "id": "ENDokHJdLxu-",
        "colab_type": "code",
        "colab": {}
      },
      "source": [
        "#converting the date column in the ranking dataset to type datetime\n",
        "ranking['rank_date'] = pd.to_datetime(ranking.rank_date)"
      ],
      "execution_count": 0,
      "outputs": []
    },
    {
      "cell_type": "code",
      "metadata": {
        "id": "NPEyMbUYLJWM",
        "colab_type": "code",
        "colab": {}
      },
      "source": [
        "#separate date column to month and year for results dataset\n",
        "ranking['month']= ranking.rank_date.dt.month\n",
        "ranking['year']=ranking.rank_date.dt.year\n"
      ],
      "execution_count": 0,
      "outputs": []
    },
    {
      "cell_type": "code",
      "metadata": {
        "id": "qu2QFR6gLpPy",
        "colab_type": "code",
        "outputId": "7ddf7512-91c1-4d58-dcea-576344438ec3",
        "colab": {
          "base_uri": "https://localhost:8080/",
          "height": 161
        }
      },
      "source": [
        "ranking.head(2)"
      ],
      "execution_count": 0,
      "outputs": [
        {
          "output_type": "execute_result",
          "data": {
            "text/html": [
              "<div>\n",
              "<style scoped>\n",
              "    .dataframe tbody tr th:only-of-type {\n",
              "        vertical-align: middle;\n",
              "    }\n",
              "\n",
              "    .dataframe tbody tr th {\n",
              "        vertical-align: top;\n",
              "    }\n",
              "\n",
              "    .dataframe thead th {\n",
              "        text-align: right;\n",
              "    }\n",
              "</style>\n",
              "<table border=\"1\" class=\"dataframe\">\n",
              "  <thead>\n",
              "    <tr style=\"text-align: right;\">\n",
              "      <th></th>\n",
              "      <th>rank</th>\n",
              "      <th>country_full</th>\n",
              "      <th>country_abrv</th>\n",
              "      <th>total_points</th>\n",
              "      <th>previous_points</th>\n",
              "      <th>rank_change</th>\n",
              "      <th>cur_year_avg</th>\n",
              "      <th>cur_year_avg_weighted</th>\n",
              "      <th>last_year_avg</th>\n",
              "      <th>last_year_avg_weighted</th>\n",
              "      <th>two_year_ago_avg</th>\n",
              "      <th>two_year_ago_weighted</th>\n",
              "      <th>three_year_ago_avg</th>\n",
              "      <th>three_year_ago_weighted</th>\n",
              "      <th>confederation</th>\n",
              "      <th>rank_date</th>\n",
              "      <th>month</th>\n",
              "      <th>year</th>\n",
              "    </tr>\n",
              "  </thead>\n",
              "  <tbody>\n",
              "    <tr>\n",
              "      <th>0</th>\n",
              "      <td>1</td>\n",
              "      <td>Germany</td>\n",
              "      <td>GER</td>\n",
              "      <td>0.0</td>\n",
              "      <td>57</td>\n",
              "      <td>0</td>\n",
              "      <td>0.0</td>\n",
              "      <td>0.0</td>\n",
              "      <td>0.0</td>\n",
              "      <td>0.0</td>\n",
              "      <td>0.0</td>\n",
              "      <td>0.0</td>\n",
              "      <td>0.0</td>\n",
              "      <td>0.0</td>\n",
              "      <td>UEFA</td>\n",
              "      <td>1993-08-08</td>\n",
              "      <td>8</td>\n",
              "      <td>1993</td>\n",
              "    </tr>\n",
              "    <tr>\n",
              "      <th>1</th>\n",
              "      <td>2</td>\n",
              "      <td>Italy</td>\n",
              "      <td>ITA</td>\n",
              "      <td>0.0</td>\n",
              "      <td>57</td>\n",
              "      <td>0</td>\n",
              "      <td>0.0</td>\n",
              "      <td>0.0</td>\n",
              "      <td>0.0</td>\n",
              "      <td>0.0</td>\n",
              "      <td>0.0</td>\n",
              "      <td>0.0</td>\n",
              "      <td>0.0</td>\n",
              "      <td>0.0</td>\n",
              "      <td>UEFA</td>\n",
              "      <td>1993-08-08</td>\n",
              "      <td>8</td>\n",
              "      <td>1993</td>\n",
              "    </tr>\n",
              "  </tbody>\n",
              "</table>\n",
              "</div>"
            ],
            "text/plain": [
              "   rank country_full country_abrv  ...  rank_date  month  year\n",
              "0     1      Germany          GER  ... 1993-08-08      8  1993\n",
              "1     2        Italy          ITA  ... 1993-08-08      8  1993\n",
              "\n",
              "[2 rows x 18 columns]"
            ]
          },
          "metadata": {
            "tags": []
          },
          "execution_count": 39
        }
      ]
    },
    {
      "cell_type": "code",
      "metadata": {
        "id": "98-BuvebM01X",
        "colab_type": "code",
        "outputId": "3f78bad8-5fcb-4a00-e288-6895dc209f8c",
        "colab": {
          "base_uri": "https://localhost:8080/",
          "height": 177
        }
      },
      "source": [
        "#creating the home team dataframe to merge with the ranking dataset using year, month, and country name\n",
        "hometeam = pd.merge(results, ranking, how = 'left', left_on=['year', 'month', 'home_team'], right_on=['year', 'month', 'country_full'])\n",
        "hometeam.head(2)"
      ],
      "execution_count": 0,
      "outputs": [
        {
          "output_type": "execute_result",
          "data": {
            "text/html": [
              "<div>\n",
              "<style scoped>\n",
              "    .dataframe tbody tr th:only-of-type {\n",
              "        vertical-align: middle;\n",
              "    }\n",
              "\n",
              "    .dataframe tbody tr th {\n",
              "        vertical-align: top;\n",
              "    }\n",
              "\n",
              "    .dataframe thead th {\n",
              "        text-align: right;\n",
              "    }\n",
              "</style>\n",
              "<table border=\"1\" class=\"dataframe\">\n",
              "  <thead>\n",
              "    <tr style=\"text-align: right;\">\n",
              "      <th></th>\n",
              "      <th>date</th>\n",
              "      <th>home_team</th>\n",
              "      <th>away_team</th>\n",
              "      <th>home_score</th>\n",
              "      <th>away_score</th>\n",
              "      <th>tournament</th>\n",
              "      <th>city</th>\n",
              "      <th>country</th>\n",
              "      <th>neutral</th>\n",
              "      <th>game_result</th>\n",
              "      <th>month</th>\n",
              "      <th>year</th>\n",
              "      <th>game</th>\n",
              "      <th>rank</th>\n",
              "      <th>country_full</th>\n",
              "      <th>country_abrv</th>\n",
              "      <th>total_points</th>\n",
              "      <th>previous_points</th>\n",
              "      <th>rank_change</th>\n",
              "      <th>cur_year_avg</th>\n",
              "      <th>cur_year_avg_weighted</th>\n",
              "      <th>last_year_avg</th>\n",
              "      <th>last_year_avg_weighted</th>\n",
              "      <th>two_year_ago_avg</th>\n",
              "      <th>two_year_ago_weighted</th>\n",
              "      <th>three_year_ago_avg</th>\n",
              "      <th>three_year_ago_weighted</th>\n",
              "      <th>confederation</th>\n",
              "      <th>rank_date</th>\n",
              "    </tr>\n",
              "  </thead>\n",
              "  <tbody>\n",
              "    <tr>\n",
              "      <th>0</th>\n",
              "      <td>1993-08-08</td>\n",
              "      <td>Bolivia</td>\n",
              "      <td>Uruguay</td>\n",
              "      <td>3</td>\n",
              "      <td>1</td>\n",
              "      <td>FIFA World Cup qualification</td>\n",
              "      <td>La Paz</td>\n",
              "      <td>Bolivia</td>\n",
              "      <td>False</td>\n",
              "      <td>win</td>\n",
              "      <td>8</td>\n",
              "      <td>1993</td>\n",
              "      <td>Bolivia  vs  Uruguay</td>\n",
              "      <td>59.0</td>\n",
              "      <td>Bolivia</td>\n",
              "      <td>BOL</td>\n",
              "      <td>0.0</td>\n",
              "      <td>13.0</td>\n",
              "      <td>28.0</td>\n",
              "      <td>0.0</td>\n",
              "      <td>0.0</td>\n",
              "      <td>0.0</td>\n",
              "      <td>0.0</td>\n",
              "      <td>0.0</td>\n",
              "      <td>0.0</td>\n",
              "      <td>0.0</td>\n",
              "      <td>0.0</td>\n",
              "      <td>CONMEBOL</td>\n",
              "      <td>1993-08-08</td>\n",
              "    </tr>\n",
              "    <tr>\n",
              "      <th>1</th>\n",
              "      <td>1993-08-08</td>\n",
              "      <td>Brazil</td>\n",
              "      <td>Mexico</td>\n",
              "      <td>1</td>\n",
              "      <td>1</td>\n",
              "      <td>Friendly</td>\n",
              "      <td>Maceió</td>\n",
              "      <td>Brazil</td>\n",
              "      <td>False</td>\n",
              "      <td>draw</td>\n",
              "      <td>8</td>\n",
              "      <td>1993</td>\n",
              "      <td>Brazil  vs  Mexico</td>\n",
              "      <td>8.0</td>\n",
              "      <td>Brazil</td>\n",
              "      <td>BRA</td>\n",
              "      <td>0.0</td>\n",
              "      <td>55.0</td>\n",
              "      <td>-5.0</td>\n",
              "      <td>0.0</td>\n",
              "      <td>0.0</td>\n",
              "      <td>0.0</td>\n",
              "      <td>0.0</td>\n",
              "      <td>0.0</td>\n",
              "      <td>0.0</td>\n",
              "      <td>0.0</td>\n",
              "      <td>0.0</td>\n",
              "      <td>CONMEBOL</td>\n",
              "      <td>1993-08-08</td>\n",
              "    </tr>\n",
              "  </tbody>\n",
              "</table>\n",
              "</div>"
            ],
            "text/plain": [
              "        date home_team  ... confederation  rank_date\n",
              "0 1993-08-08   Bolivia  ...      CONMEBOL 1993-08-08\n",
              "1 1993-08-08    Brazil  ...      CONMEBOL 1993-08-08\n",
              "\n",
              "[2 rows x 29 columns]"
            ]
          },
          "metadata": {
            "tags": []
          },
          "execution_count": 22
        }
      ]
    },
    {
      "cell_type": "code",
      "metadata": {
        "id": "CLHUhPFCWHqt",
        "colab_type": "code",
        "colab": {}
      },
      "source": [
        "#renaming the rank column to show the home team rank\n",
        "hometeam.rename(columns = {'rank':'hometeam_rank'}, inplace = True)"
      ],
      "execution_count": 0,
      "outputs": []
    },
    {
      "cell_type": "code",
      "metadata": {
        "id": "T8LnAEH2WHnZ",
        "colab_type": "code",
        "outputId": "c82684b4-dd3a-4851-c3a5-4d7fde9a747d",
        "colab": {
          "base_uri": "https://localhost:8080/",
          "height": 177
        }
      },
      "source": [
        "#previewing the dataset\n",
        "hometeam.head(2)"
      ],
      "execution_count": 0,
      "outputs": [
        {
          "output_type": "execute_result",
          "data": {
            "text/html": [
              "<div>\n",
              "<style scoped>\n",
              "    .dataframe tbody tr th:only-of-type {\n",
              "        vertical-align: middle;\n",
              "    }\n",
              "\n",
              "    .dataframe tbody tr th {\n",
              "        vertical-align: top;\n",
              "    }\n",
              "\n",
              "    .dataframe thead th {\n",
              "        text-align: right;\n",
              "    }\n",
              "</style>\n",
              "<table border=\"1\" class=\"dataframe\">\n",
              "  <thead>\n",
              "    <tr style=\"text-align: right;\">\n",
              "      <th></th>\n",
              "      <th>date</th>\n",
              "      <th>home_team</th>\n",
              "      <th>away_team</th>\n",
              "      <th>home_score</th>\n",
              "      <th>away_score</th>\n",
              "      <th>tournament</th>\n",
              "      <th>city</th>\n",
              "      <th>country</th>\n",
              "      <th>neutral</th>\n",
              "      <th>game_result</th>\n",
              "      <th>month</th>\n",
              "      <th>year</th>\n",
              "      <th>game</th>\n",
              "      <th>hometeam_rank</th>\n",
              "      <th>country_full</th>\n",
              "      <th>country_abrv</th>\n",
              "      <th>total_points</th>\n",
              "      <th>previous_points</th>\n",
              "      <th>rank_change</th>\n",
              "      <th>cur_year_avg</th>\n",
              "      <th>cur_year_avg_weighted</th>\n",
              "      <th>last_year_avg</th>\n",
              "      <th>last_year_avg_weighted</th>\n",
              "      <th>two_year_ago_avg</th>\n",
              "      <th>two_year_ago_weighted</th>\n",
              "      <th>three_year_ago_avg</th>\n",
              "      <th>three_year_ago_weighted</th>\n",
              "      <th>confederation</th>\n",
              "      <th>rank_date</th>\n",
              "    </tr>\n",
              "  </thead>\n",
              "  <tbody>\n",
              "    <tr>\n",
              "      <th>0</th>\n",
              "      <td>1993-08-08</td>\n",
              "      <td>Bolivia</td>\n",
              "      <td>Uruguay</td>\n",
              "      <td>3</td>\n",
              "      <td>1</td>\n",
              "      <td>FIFA World Cup qualification</td>\n",
              "      <td>La Paz</td>\n",
              "      <td>Bolivia</td>\n",
              "      <td>False</td>\n",
              "      <td>win</td>\n",
              "      <td>8</td>\n",
              "      <td>1993</td>\n",
              "      <td>Bolivia  vs  Uruguay</td>\n",
              "      <td>59.0</td>\n",
              "      <td>Bolivia</td>\n",
              "      <td>BOL</td>\n",
              "      <td>0.0</td>\n",
              "      <td>13.0</td>\n",
              "      <td>28.0</td>\n",
              "      <td>0.0</td>\n",
              "      <td>0.0</td>\n",
              "      <td>0.0</td>\n",
              "      <td>0.0</td>\n",
              "      <td>0.0</td>\n",
              "      <td>0.0</td>\n",
              "      <td>0.0</td>\n",
              "      <td>0.0</td>\n",
              "      <td>CONMEBOL</td>\n",
              "      <td>1993-08-08</td>\n",
              "    </tr>\n",
              "    <tr>\n",
              "      <th>1</th>\n",
              "      <td>1993-08-08</td>\n",
              "      <td>Brazil</td>\n",
              "      <td>Mexico</td>\n",
              "      <td>1</td>\n",
              "      <td>1</td>\n",
              "      <td>Friendly</td>\n",
              "      <td>Maceió</td>\n",
              "      <td>Brazil</td>\n",
              "      <td>False</td>\n",
              "      <td>draw</td>\n",
              "      <td>8</td>\n",
              "      <td>1993</td>\n",
              "      <td>Brazil  vs  Mexico</td>\n",
              "      <td>8.0</td>\n",
              "      <td>Brazil</td>\n",
              "      <td>BRA</td>\n",
              "      <td>0.0</td>\n",
              "      <td>55.0</td>\n",
              "      <td>-5.0</td>\n",
              "      <td>0.0</td>\n",
              "      <td>0.0</td>\n",
              "      <td>0.0</td>\n",
              "      <td>0.0</td>\n",
              "      <td>0.0</td>\n",
              "      <td>0.0</td>\n",
              "      <td>0.0</td>\n",
              "      <td>0.0</td>\n",
              "      <td>CONMEBOL</td>\n",
              "      <td>1993-08-08</td>\n",
              "    </tr>\n",
              "  </tbody>\n",
              "</table>\n",
              "</div>"
            ],
            "text/plain": [
              "        date home_team  ... confederation  rank_date\n",
              "0 1993-08-08   Bolivia  ...      CONMEBOL 1993-08-08\n",
              "1 1993-08-08    Brazil  ...      CONMEBOL 1993-08-08\n",
              "\n",
              "[2 rows x 29 columns]"
            ]
          },
          "metadata": {
            "tags": []
          },
          "execution_count": 24
        }
      ]
    },
    {
      "cell_type": "code",
      "metadata": {
        "id": "9p2xa1yaaMxN",
        "colab_type": "code",
        "outputId": "324bd99f-1eaf-403f-8c22-19e9fdb95058",
        "colab": {
          "base_uri": "https://localhost:8080/",
          "height": 34
        }
      },
      "source": [
        "hometeam.shape"
      ],
      "execution_count": 0,
      "outputs": [
        {
          "output_type": "execute_result",
          "data": {
            "text/plain": [
              "(22993, 29)"
            ]
          },
          "metadata": {
            "tags": []
          },
          "execution_count": 79
        }
      ]
    },
    {
      "cell_type": "code",
      "metadata": {
        "id": "7bhUWgenWHk3",
        "colab_type": "code",
        "outputId": "251ceaba-2226-4a19-ff1c-3ddab62778f5",
        "colab": {
          "base_uri": "https://localhost:8080/",
          "height": 177
        }
      },
      "source": [
        "#creating the away team dataframe to merge with the ranking dataset using year, month, and country name\n",
        "awayteam = pd.merge(results, ranking, how = 'left', left_on=['year', 'month', 'away_team'], right_on=['year', 'month', 'country_full'])\n",
        "awayteam.head(2)"
      ],
      "execution_count": 0,
      "outputs": [
        {
          "output_type": "execute_result",
          "data": {
            "text/html": [
              "<div>\n",
              "<style scoped>\n",
              "    .dataframe tbody tr th:only-of-type {\n",
              "        vertical-align: middle;\n",
              "    }\n",
              "\n",
              "    .dataframe tbody tr th {\n",
              "        vertical-align: top;\n",
              "    }\n",
              "\n",
              "    .dataframe thead th {\n",
              "        text-align: right;\n",
              "    }\n",
              "</style>\n",
              "<table border=\"1\" class=\"dataframe\">\n",
              "  <thead>\n",
              "    <tr style=\"text-align: right;\">\n",
              "      <th></th>\n",
              "      <th>date</th>\n",
              "      <th>home_team</th>\n",
              "      <th>away_team</th>\n",
              "      <th>home_score</th>\n",
              "      <th>away_score</th>\n",
              "      <th>tournament</th>\n",
              "      <th>city</th>\n",
              "      <th>country</th>\n",
              "      <th>neutral</th>\n",
              "      <th>game_result</th>\n",
              "      <th>month</th>\n",
              "      <th>year</th>\n",
              "      <th>game</th>\n",
              "      <th>rank</th>\n",
              "      <th>country_full</th>\n",
              "      <th>country_abrv</th>\n",
              "      <th>total_points</th>\n",
              "      <th>previous_points</th>\n",
              "      <th>rank_change</th>\n",
              "      <th>cur_year_avg</th>\n",
              "      <th>cur_year_avg_weighted</th>\n",
              "      <th>last_year_avg</th>\n",
              "      <th>last_year_avg_weighted</th>\n",
              "      <th>two_year_ago_avg</th>\n",
              "      <th>two_year_ago_weighted</th>\n",
              "      <th>three_year_ago_avg</th>\n",
              "      <th>three_year_ago_weighted</th>\n",
              "      <th>confederation</th>\n",
              "      <th>rank_date</th>\n",
              "    </tr>\n",
              "  </thead>\n",
              "  <tbody>\n",
              "    <tr>\n",
              "      <th>0</th>\n",
              "      <td>1993-08-08</td>\n",
              "      <td>Bolivia</td>\n",
              "      <td>Uruguay</td>\n",
              "      <td>3</td>\n",
              "      <td>1</td>\n",
              "      <td>FIFA World Cup qualification</td>\n",
              "      <td>La Paz</td>\n",
              "      <td>Bolivia</td>\n",
              "      <td>False</td>\n",
              "      <td>win</td>\n",
              "      <td>8</td>\n",
              "      <td>1993</td>\n",
              "      <td>Bolivia  vs  Uruguay</td>\n",
              "      <td>22.0</td>\n",
              "      <td>Uruguay</td>\n",
              "      <td>URU</td>\n",
              "      <td>0.0</td>\n",
              "      <td>47.0</td>\n",
              "      <td>-6.0</td>\n",
              "      <td>0.0</td>\n",
              "      <td>0.0</td>\n",
              "      <td>0.0</td>\n",
              "      <td>0.0</td>\n",
              "      <td>0.0</td>\n",
              "      <td>0.0</td>\n",
              "      <td>0.0</td>\n",
              "      <td>0.0</td>\n",
              "      <td>CONMEBOL</td>\n",
              "      <td>1993-08-08</td>\n",
              "    </tr>\n",
              "    <tr>\n",
              "      <th>1</th>\n",
              "      <td>1993-08-08</td>\n",
              "      <td>Brazil</td>\n",
              "      <td>Mexico</td>\n",
              "      <td>1</td>\n",
              "      <td>1</td>\n",
              "      <td>Friendly</td>\n",
              "      <td>Maceió</td>\n",
              "      <td>Brazil</td>\n",
              "      <td>False</td>\n",
              "      <td>draw</td>\n",
              "      <td>8</td>\n",
              "      <td>1993</td>\n",
              "      <td>Brazil  vs  Mexico</td>\n",
              "      <td>14.0</td>\n",
              "      <td>Mexico</td>\n",
              "      <td>MEX</td>\n",
              "      <td>0.0</td>\n",
              "      <td>42.0</td>\n",
              "      <td>11.0</td>\n",
              "      <td>0.0</td>\n",
              "      <td>0.0</td>\n",
              "      <td>0.0</td>\n",
              "      <td>0.0</td>\n",
              "      <td>0.0</td>\n",
              "      <td>0.0</td>\n",
              "      <td>0.0</td>\n",
              "      <td>0.0</td>\n",
              "      <td>CONCACAF</td>\n",
              "      <td>1993-08-08</td>\n",
              "    </tr>\n",
              "  </tbody>\n",
              "</table>\n",
              "</div>"
            ],
            "text/plain": [
              "        date home_team  ... confederation  rank_date\n",
              "0 1993-08-08   Bolivia  ...      CONMEBOL 1993-08-08\n",
              "1 1993-08-08    Brazil  ...      CONCACAF 1993-08-08\n",
              "\n",
              "[2 rows x 29 columns]"
            ]
          },
          "metadata": {
            "tags": []
          },
          "execution_count": 25
        }
      ]
    },
    {
      "cell_type": "code",
      "metadata": {
        "id": "mrMI7jOpXTUW",
        "colab_type": "code",
        "colab": {}
      },
      "source": [
        "#renaming the rank column to show the awy team rank\n",
        "awayteam.rename(columns = {'rank':'awayteam_rank'}, inplace = True)"
      ],
      "execution_count": 0,
      "outputs": []
    },
    {
      "cell_type": "code",
      "metadata": {
        "id": "VCOBasw4XedB",
        "colab_type": "code",
        "outputId": "699208e5-1682-480a-aa7e-4c1e04cdc311",
        "colab": {
          "base_uri": "https://localhost:8080/",
          "height": 177
        }
      },
      "source": [
        "awayteam.head(2)"
      ],
      "execution_count": 0,
      "outputs": [
        {
          "output_type": "execute_result",
          "data": {
            "text/html": [
              "<div>\n",
              "<style scoped>\n",
              "    .dataframe tbody tr th:only-of-type {\n",
              "        vertical-align: middle;\n",
              "    }\n",
              "\n",
              "    .dataframe tbody tr th {\n",
              "        vertical-align: top;\n",
              "    }\n",
              "\n",
              "    .dataframe thead th {\n",
              "        text-align: right;\n",
              "    }\n",
              "</style>\n",
              "<table border=\"1\" class=\"dataframe\">\n",
              "  <thead>\n",
              "    <tr style=\"text-align: right;\">\n",
              "      <th></th>\n",
              "      <th>date</th>\n",
              "      <th>home_team</th>\n",
              "      <th>away_team</th>\n",
              "      <th>home_score</th>\n",
              "      <th>away_score</th>\n",
              "      <th>tournament</th>\n",
              "      <th>city</th>\n",
              "      <th>country</th>\n",
              "      <th>neutral</th>\n",
              "      <th>game_result</th>\n",
              "      <th>month</th>\n",
              "      <th>year</th>\n",
              "      <th>game</th>\n",
              "      <th>awayteam_rank</th>\n",
              "      <th>country_full</th>\n",
              "      <th>country_abrv</th>\n",
              "      <th>total_points</th>\n",
              "      <th>previous_points</th>\n",
              "      <th>rank_change</th>\n",
              "      <th>cur_year_avg</th>\n",
              "      <th>cur_year_avg_weighted</th>\n",
              "      <th>last_year_avg</th>\n",
              "      <th>last_year_avg_weighted</th>\n",
              "      <th>two_year_ago_avg</th>\n",
              "      <th>two_year_ago_weighted</th>\n",
              "      <th>three_year_ago_avg</th>\n",
              "      <th>three_year_ago_weighted</th>\n",
              "      <th>confederation</th>\n",
              "      <th>rank_date</th>\n",
              "    </tr>\n",
              "  </thead>\n",
              "  <tbody>\n",
              "    <tr>\n",
              "      <th>0</th>\n",
              "      <td>1993-08-08</td>\n",
              "      <td>Bolivia</td>\n",
              "      <td>Uruguay</td>\n",
              "      <td>3</td>\n",
              "      <td>1</td>\n",
              "      <td>FIFA World Cup qualification</td>\n",
              "      <td>La Paz</td>\n",
              "      <td>Bolivia</td>\n",
              "      <td>False</td>\n",
              "      <td>win</td>\n",
              "      <td>8</td>\n",
              "      <td>1993</td>\n",
              "      <td>Bolivia  vs  Uruguay</td>\n",
              "      <td>22.0</td>\n",
              "      <td>Uruguay</td>\n",
              "      <td>URU</td>\n",
              "      <td>0.0</td>\n",
              "      <td>47.0</td>\n",
              "      <td>-6.0</td>\n",
              "      <td>0.0</td>\n",
              "      <td>0.0</td>\n",
              "      <td>0.0</td>\n",
              "      <td>0.0</td>\n",
              "      <td>0.0</td>\n",
              "      <td>0.0</td>\n",
              "      <td>0.0</td>\n",
              "      <td>0.0</td>\n",
              "      <td>CONMEBOL</td>\n",
              "      <td>1993-08-08</td>\n",
              "    </tr>\n",
              "    <tr>\n",
              "      <th>1</th>\n",
              "      <td>1993-08-08</td>\n",
              "      <td>Brazil</td>\n",
              "      <td>Mexico</td>\n",
              "      <td>1</td>\n",
              "      <td>1</td>\n",
              "      <td>Friendly</td>\n",
              "      <td>Maceió</td>\n",
              "      <td>Brazil</td>\n",
              "      <td>False</td>\n",
              "      <td>draw</td>\n",
              "      <td>8</td>\n",
              "      <td>1993</td>\n",
              "      <td>Brazil  vs  Mexico</td>\n",
              "      <td>14.0</td>\n",
              "      <td>Mexico</td>\n",
              "      <td>MEX</td>\n",
              "      <td>0.0</td>\n",
              "      <td>42.0</td>\n",
              "      <td>11.0</td>\n",
              "      <td>0.0</td>\n",
              "      <td>0.0</td>\n",
              "      <td>0.0</td>\n",
              "      <td>0.0</td>\n",
              "      <td>0.0</td>\n",
              "      <td>0.0</td>\n",
              "      <td>0.0</td>\n",
              "      <td>0.0</td>\n",
              "      <td>CONCACAF</td>\n",
              "      <td>1993-08-08</td>\n",
              "    </tr>\n",
              "  </tbody>\n",
              "</table>\n",
              "</div>"
            ],
            "text/plain": [
              "        date home_team  ... confederation  rank_date\n",
              "0 1993-08-08   Bolivia  ...      CONMEBOL 1993-08-08\n",
              "1 1993-08-08    Brazil  ...      CONCACAF 1993-08-08\n",
              "\n",
              "[2 rows x 29 columns]"
            ]
          },
          "metadata": {
            "tags": []
          },
          "execution_count": 27
        }
      ]
    },
    {
      "cell_type": "code",
      "metadata": {
        "id": "YMYOPRKcaIGK",
        "colab_type": "code",
        "outputId": "6e52e6d1-f2dd-4930-eb87-7979de84ab37",
        "colab": {
          "base_uri": "https://localhost:8080/",
          "height": 34
        }
      },
      "source": [
        "awayteam.shape"
      ],
      "execution_count": 0,
      "outputs": [
        {
          "output_type": "execute_result",
          "data": {
            "text/plain": [
              "(23000, 29)"
            ]
          },
          "metadata": {
            "tags": []
          },
          "execution_count": 45
        }
      ]
    },
    {
      "cell_type": "code",
      "metadata": {
        "id": "KxBEvKEwYTq1",
        "colab_type": "code",
        "outputId": "859d78c7-61cb-469a-8816-f60d1be1d6b4",
        "colab": {
          "base_uri": "https://localhost:8080/",
          "height": 177
        }
      },
      "source": [
        "#merging the hometeam and awayteam dataframes\n",
        "teams = pd.merge(hometeam, awayteam , how ='left', left_on=['month','year', 'home_team', 'away_team'], right_on=['month','year', 'home_team', 'away_team'])\n",
        "teams.head(2)"
      ],
      "execution_count": 0,
      "outputs": [
        {
          "output_type": "execute_result",
          "data": {
            "text/html": [
              "<div>\n",
              "<style scoped>\n",
              "    .dataframe tbody tr th:only-of-type {\n",
              "        vertical-align: middle;\n",
              "    }\n",
              "\n",
              "    .dataframe tbody tr th {\n",
              "        vertical-align: top;\n",
              "    }\n",
              "\n",
              "    .dataframe thead th {\n",
              "        text-align: right;\n",
              "    }\n",
              "</style>\n",
              "<table border=\"1\" class=\"dataframe\">\n",
              "  <thead>\n",
              "    <tr style=\"text-align: right;\">\n",
              "      <th></th>\n",
              "      <th>date_x</th>\n",
              "      <th>home_team</th>\n",
              "      <th>away_team</th>\n",
              "      <th>home_score_x</th>\n",
              "      <th>away_score_x</th>\n",
              "      <th>tournament_x</th>\n",
              "      <th>city_x</th>\n",
              "      <th>country_x</th>\n",
              "      <th>neutral_x</th>\n",
              "      <th>game_result_x</th>\n",
              "      <th>month</th>\n",
              "      <th>year</th>\n",
              "      <th>game_x</th>\n",
              "      <th>hometeam_rank</th>\n",
              "      <th>country_full_x</th>\n",
              "      <th>country_abrv_x</th>\n",
              "      <th>total_points_x</th>\n",
              "      <th>previous_points_x</th>\n",
              "      <th>rank_change_x</th>\n",
              "      <th>cur_year_avg_x</th>\n",
              "      <th>cur_year_avg_weighted_x</th>\n",
              "      <th>last_year_avg_x</th>\n",
              "      <th>last_year_avg_weighted_x</th>\n",
              "      <th>two_year_ago_avg_x</th>\n",
              "      <th>two_year_ago_weighted_x</th>\n",
              "      <th>three_year_ago_avg_x</th>\n",
              "      <th>three_year_ago_weighted_x</th>\n",
              "      <th>confederation_x</th>\n",
              "      <th>rank_date_x</th>\n",
              "      <th>date_y</th>\n",
              "      <th>home_score_y</th>\n",
              "      <th>away_score_y</th>\n",
              "      <th>tournament_y</th>\n",
              "      <th>city_y</th>\n",
              "      <th>country_y</th>\n",
              "      <th>neutral_y</th>\n",
              "      <th>game_result_y</th>\n",
              "      <th>game_y</th>\n",
              "      <th>awayteam_rank</th>\n",
              "      <th>country_full_y</th>\n",
              "      <th>country_abrv_y</th>\n",
              "      <th>total_points_y</th>\n",
              "      <th>previous_points_y</th>\n",
              "      <th>rank_change_y</th>\n",
              "      <th>cur_year_avg_y</th>\n",
              "      <th>cur_year_avg_weighted_y</th>\n",
              "      <th>last_year_avg_y</th>\n",
              "      <th>last_year_avg_weighted_y</th>\n",
              "      <th>two_year_ago_avg_y</th>\n",
              "      <th>two_year_ago_weighted_y</th>\n",
              "      <th>three_year_ago_avg_y</th>\n",
              "      <th>three_year_ago_weighted_y</th>\n",
              "      <th>confederation_y</th>\n",
              "      <th>rank_date_y</th>\n",
              "    </tr>\n",
              "  </thead>\n",
              "  <tbody>\n",
              "    <tr>\n",
              "      <th>0</th>\n",
              "      <td>1993-08-08</td>\n",
              "      <td>Bolivia</td>\n",
              "      <td>Uruguay</td>\n",
              "      <td>3</td>\n",
              "      <td>1</td>\n",
              "      <td>FIFA World Cup qualification</td>\n",
              "      <td>La Paz</td>\n",
              "      <td>Bolivia</td>\n",
              "      <td>False</td>\n",
              "      <td>win</td>\n",
              "      <td>8</td>\n",
              "      <td>1993</td>\n",
              "      <td>Bolivia  vs  Uruguay</td>\n",
              "      <td>59.0</td>\n",
              "      <td>Bolivia</td>\n",
              "      <td>BOL</td>\n",
              "      <td>0.0</td>\n",
              "      <td>13.0</td>\n",
              "      <td>28.0</td>\n",
              "      <td>0.0</td>\n",
              "      <td>0.0</td>\n",
              "      <td>0.0</td>\n",
              "      <td>0.0</td>\n",
              "      <td>0.0</td>\n",
              "      <td>0.0</td>\n",
              "      <td>0.0</td>\n",
              "      <td>0.0</td>\n",
              "      <td>CONMEBOL</td>\n",
              "      <td>1993-08-08</td>\n",
              "      <td>1993-08-08</td>\n",
              "      <td>3</td>\n",
              "      <td>1</td>\n",
              "      <td>FIFA World Cup qualification</td>\n",
              "      <td>La Paz</td>\n",
              "      <td>Bolivia</td>\n",
              "      <td>False</td>\n",
              "      <td>win</td>\n",
              "      <td>Bolivia  vs  Uruguay</td>\n",
              "      <td>22.0</td>\n",
              "      <td>Uruguay</td>\n",
              "      <td>URU</td>\n",
              "      <td>0.0</td>\n",
              "      <td>47.0</td>\n",
              "      <td>-6.0</td>\n",
              "      <td>0.0</td>\n",
              "      <td>0.0</td>\n",
              "      <td>0.0</td>\n",
              "      <td>0.0</td>\n",
              "      <td>0.0</td>\n",
              "      <td>0.0</td>\n",
              "      <td>0.0</td>\n",
              "      <td>0.0</td>\n",
              "      <td>CONMEBOL</td>\n",
              "      <td>1993-08-08</td>\n",
              "    </tr>\n",
              "    <tr>\n",
              "      <th>1</th>\n",
              "      <td>1993-08-08</td>\n",
              "      <td>Brazil</td>\n",
              "      <td>Mexico</td>\n",
              "      <td>1</td>\n",
              "      <td>1</td>\n",
              "      <td>Friendly</td>\n",
              "      <td>Maceió</td>\n",
              "      <td>Brazil</td>\n",
              "      <td>False</td>\n",
              "      <td>draw</td>\n",
              "      <td>8</td>\n",
              "      <td>1993</td>\n",
              "      <td>Brazil  vs  Mexico</td>\n",
              "      <td>8.0</td>\n",
              "      <td>Brazil</td>\n",
              "      <td>BRA</td>\n",
              "      <td>0.0</td>\n",
              "      <td>55.0</td>\n",
              "      <td>-5.0</td>\n",
              "      <td>0.0</td>\n",
              "      <td>0.0</td>\n",
              "      <td>0.0</td>\n",
              "      <td>0.0</td>\n",
              "      <td>0.0</td>\n",
              "      <td>0.0</td>\n",
              "      <td>0.0</td>\n",
              "      <td>0.0</td>\n",
              "      <td>CONMEBOL</td>\n",
              "      <td>1993-08-08</td>\n",
              "      <td>1993-08-08</td>\n",
              "      <td>1</td>\n",
              "      <td>1</td>\n",
              "      <td>Friendly</td>\n",
              "      <td>Maceió</td>\n",
              "      <td>Brazil</td>\n",
              "      <td>False</td>\n",
              "      <td>draw</td>\n",
              "      <td>Brazil  vs  Mexico</td>\n",
              "      <td>14.0</td>\n",
              "      <td>Mexico</td>\n",
              "      <td>MEX</td>\n",
              "      <td>0.0</td>\n",
              "      <td>42.0</td>\n",
              "      <td>11.0</td>\n",
              "      <td>0.0</td>\n",
              "      <td>0.0</td>\n",
              "      <td>0.0</td>\n",
              "      <td>0.0</td>\n",
              "      <td>0.0</td>\n",
              "      <td>0.0</td>\n",
              "      <td>0.0</td>\n",
              "      <td>0.0</td>\n",
              "      <td>CONCACAF</td>\n",
              "      <td>1993-08-08</td>\n",
              "    </tr>\n",
              "  </tbody>\n",
              "</table>\n",
              "</div>"
            ],
            "text/plain": [
              "      date_x home_team  ... confederation_y  rank_date_y\n",
              "0 1993-08-08   Bolivia  ...        CONMEBOL   1993-08-08\n",
              "1 1993-08-08    Brazil  ...        CONCACAF   1993-08-08\n",
              "\n",
              "[2 rows x 54 columns]"
            ]
          },
          "metadata": {
            "tags": []
          },
          "execution_count": 29
        }
      ]
    },
    {
      "cell_type": "code",
      "metadata": {
        "id": "Xy-f3gTXdVmn",
        "colab_type": "code",
        "outputId": "58e8f37a-07f9-45e5-f7ef-8560dbb65c1c",
        "colab": {
          "base_uri": "https://localhost:8080/",
          "height": 318
        }
      },
      "source": [
        "#checking the column names so as to see which columns are to be deleted\n",
        "teams.columns"
      ],
      "execution_count": 0,
      "outputs": [
        {
          "output_type": "execute_result",
          "data": {
            "text/plain": [
              "Index(['date_x', 'home_team', 'away_team', 'home_score_x', 'away_score_x',\n",
              "       'tournament_x', 'city_x', 'country_x', 'neutral_x', 'game_result_x',\n",
              "       'month', 'year', 'game_x', 'hometeam_rank', 'country_full_x',\n",
              "       'country_abrv_x', 'total_points_x', 'previous_points_x',\n",
              "       'rank_change_x', 'cur_year_avg_x', 'cur_year_avg_weighted_x',\n",
              "       'last_year_avg_x', 'last_year_avg_weighted_x', 'two_year_ago_avg_x',\n",
              "       'two_year_ago_weighted_x', 'three_year_ago_avg_x',\n",
              "       'three_year_ago_weighted_x', 'confederation_x', 'rank_date_x', 'date_y',\n",
              "       'home_score_y', 'away_score_y', 'tournament_y', 'city_y', 'country_y',\n",
              "       'neutral_y', 'game_result_y', 'game_y', 'awayteam_rank',\n",
              "       'country_full_y', 'country_abrv_y', 'total_points_y',\n",
              "       'previous_points_y', 'rank_change_y', 'cur_year_avg_y',\n",
              "       'cur_year_avg_weighted_y', 'last_year_avg_y',\n",
              "       'last_year_avg_weighted_y', 'two_year_ago_avg_y',\n",
              "       'two_year_ago_weighted_y', 'three_year_ago_avg_y',\n",
              "       'three_year_ago_weighted_y', 'confederation_y', 'rank_date_y'],\n",
              "      dtype='object')"
            ]
          },
          "metadata": {
            "tags": []
          },
          "execution_count": 109
        }
      ]
    },
    {
      "cell_type": "code",
      "metadata": {
        "id": "qFvPab18h9t0",
        "colab_type": "code",
        "colab": {}
      },
      "source": [
        "#creating the variable col_drop so as to drop all the unnecesary \n",
        "col_drop = ['date_x', 'country_full_x',\n",
        "       'country_abrv_x', 'total_points_x', 'previous_points_x',\n",
        "       'rank_change_x', 'cur_year_avg_x', 'cur_year_avg_weighted_x',\n",
        "       'last_year_avg_x', 'last_year_avg_weighted_x', 'two_year_ago_avg_x',\n",
        "       'two_year_ago_weighted_x', 'three_year_ago_avg_x',\n",
        "       'three_year_ago_weighted_x', 'confederation_x', 'rank_date_x', 'date_y',\n",
        "       'home_score_y', 'away_score_y', 'tournament_y', 'city_y', 'country_y',\n",
        "       'neutral_y', 'game_result_y', 'game_y',\n",
        "       'country_full_y', 'country_abrv_y', 'total_points_y',\n",
        "       'previous_points_y', 'rank_change_y', 'cur_year_avg_y',\n",
        "       'cur_year_avg_weighted_y', 'last_year_avg_y',\n",
        "       'last_year_avg_weighted_y', 'two_year_ago_avg_y',\n",
        "       'two_year_ago_weighted_y', 'three_year_ago_avg_y',\n",
        "       'three_year_ago_weighted_y', 'confederation_y', 'rank_date_y']\n",
        "\n",
        "teams.drop(col_drop, axis = 1, inplace=True)"
      ],
      "execution_count": 0,
      "outputs": []
    },
    {
      "cell_type": "code",
      "metadata": {
        "id": "oQJhndeVZH17",
        "colab_type": "code",
        "outputId": "158a5e84-3efb-46a9-fadd-6a61a0489a7c",
        "colab": {
          "base_uri": "https://localhost:8080/",
          "height": 124
        }
      },
      "source": [
        "#previewing the dataset with all the necessary columns\n",
        "teams.head(2)"
      ],
      "execution_count": 0,
      "outputs": [
        {
          "output_type": "execute_result",
          "data": {
            "text/html": [
              "<div>\n",
              "<style scoped>\n",
              "    .dataframe tbody tr th:only-of-type {\n",
              "        vertical-align: middle;\n",
              "    }\n",
              "\n",
              "    .dataframe tbody tr th {\n",
              "        vertical-align: top;\n",
              "    }\n",
              "\n",
              "    .dataframe thead th {\n",
              "        text-align: right;\n",
              "    }\n",
              "</style>\n",
              "<table border=\"1\" class=\"dataframe\">\n",
              "  <thead>\n",
              "    <tr style=\"text-align: right;\">\n",
              "      <th></th>\n",
              "      <th>home_team</th>\n",
              "      <th>away_team</th>\n",
              "      <th>home_score_x</th>\n",
              "      <th>away_score_x</th>\n",
              "      <th>tournament_x</th>\n",
              "      <th>city_x</th>\n",
              "      <th>country_x</th>\n",
              "      <th>neutral_x</th>\n",
              "      <th>game_result_x</th>\n",
              "      <th>month</th>\n",
              "      <th>year</th>\n",
              "      <th>game_x</th>\n",
              "      <th>hometeam_rank</th>\n",
              "      <th>awayteam_rank</th>\n",
              "    </tr>\n",
              "  </thead>\n",
              "  <tbody>\n",
              "    <tr>\n",
              "      <th>0</th>\n",
              "      <td>Bolivia</td>\n",
              "      <td>Uruguay</td>\n",
              "      <td>3</td>\n",
              "      <td>1</td>\n",
              "      <td>FIFA World Cup qualification</td>\n",
              "      <td>La Paz</td>\n",
              "      <td>Bolivia</td>\n",
              "      <td>False</td>\n",
              "      <td>win</td>\n",
              "      <td>8</td>\n",
              "      <td>1993</td>\n",
              "      <td>Bolivia  vs  Uruguay</td>\n",
              "      <td>59.0</td>\n",
              "      <td>22.0</td>\n",
              "    </tr>\n",
              "    <tr>\n",
              "      <th>1</th>\n",
              "      <td>Brazil</td>\n",
              "      <td>Mexico</td>\n",
              "      <td>1</td>\n",
              "      <td>1</td>\n",
              "      <td>Friendly</td>\n",
              "      <td>Maceió</td>\n",
              "      <td>Brazil</td>\n",
              "      <td>False</td>\n",
              "      <td>draw</td>\n",
              "      <td>8</td>\n",
              "      <td>1993</td>\n",
              "      <td>Brazil  vs  Mexico</td>\n",
              "      <td>8.0</td>\n",
              "      <td>14.0</td>\n",
              "    </tr>\n",
              "  </tbody>\n",
              "</table>\n",
              "</div>"
            ],
            "text/plain": [
              "  home_team away_team  ...  hometeam_rank  awayteam_rank\n",
              "0   Bolivia   Uruguay  ...           59.0           22.0\n",
              "1    Brazil    Mexico  ...            8.0           14.0\n",
              "\n",
              "[2 rows x 14 columns]"
            ]
          },
          "metadata": {
            "tags": []
          },
          "execution_count": 31
        }
      ]
    },
    {
      "cell_type": "code",
      "metadata": {
        "id": "Gjw3tOqiZNCc",
        "colab_type": "code",
        "outputId": "d7437788-8303-4ab7-f153-bb5f71b559cf",
        "colab": {
          "base_uri": "https://localhost:8080/",
          "height": 283
        }
      },
      "source": [
        "#checking the dataset for any null values\n",
        "teams.isnull().sum()"
      ],
      "execution_count": 0,
      "outputs": [
        {
          "output_type": "execute_result",
          "data": {
            "text/plain": [
              "home_team           0\n",
              "away_team           0\n",
              "home_score_x        0\n",
              "away_score_x        0\n",
              "tournament_x        0\n",
              "city_x              0\n",
              "country_x           0\n",
              "neutral_x           0\n",
              "game_result_x       0\n",
              "month               0\n",
              "year                0\n",
              "game_x              0\n",
              "hometeam_rank    4543\n",
              "awayteam_rank    4651\n",
              "dtype: int64"
            ]
          },
          "metadata": {
            "tags": []
          },
          "execution_count": 32
        }
      ]
    },
    {
      "cell_type": "code",
      "metadata": {
        "id": "q6LpVcbMjag1",
        "colab_type": "code",
        "colab": {}
      },
      "source": [
        "#creating a replica of the teams dataframe\n",
        "df = teams.copy()"
      ],
      "execution_count": 0,
      "outputs": []
    },
    {
      "cell_type": "code",
      "metadata": {
        "id": "BgqyVCOQje1c",
        "colab_type": "code",
        "colab": {}
      },
      "source": [
        "#dropping all columns with nan values\n",
        "df.dropna(inplace=True)"
      ],
      "execution_count": 0,
      "outputs": []
    },
    {
      "cell_type": "code",
      "metadata": {
        "id": "0CObgqd8jey9",
        "colab_type": "code",
        "outputId": "ed22ce1c-b208-4fa5-e9fb-f1f385762772",
        "colab": {
          "base_uri": "https://localhost:8080/",
          "height": 124
        }
      },
      "source": [
        "df.head(2)"
      ],
      "execution_count": 0,
      "outputs": [
        {
          "output_type": "execute_result",
          "data": {
            "text/html": [
              "<div>\n",
              "<style scoped>\n",
              "    .dataframe tbody tr th:only-of-type {\n",
              "        vertical-align: middle;\n",
              "    }\n",
              "\n",
              "    .dataframe tbody tr th {\n",
              "        vertical-align: top;\n",
              "    }\n",
              "\n",
              "    .dataframe thead th {\n",
              "        text-align: right;\n",
              "    }\n",
              "</style>\n",
              "<table border=\"1\" class=\"dataframe\">\n",
              "  <thead>\n",
              "    <tr style=\"text-align: right;\">\n",
              "      <th></th>\n",
              "      <th>home_team</th>\n",
              "      <th>away_team</th>\n",
              "      <th>home_score_x</th>\n",
              "      <th>away_score_x</th>\n",
              "      <th>tournament_x</th>\n",
              "      <th>city_x</th>\n",
              "      <th>country_x</th>\n",
              "      <th>neutral_x</th>\n",
              "      <th>game_result_x</th>\n",
              "      <th>month</th>\n",
              "      <th>year</th>\n",
              "      <th>game_x</th>\n",
              "      <th>hometeam_rank</th>\n",
              "      <th>awayteam_rank</th>\n",
              "    </tr>\n",
              "  </thead>\n",
              "  <tbody>\n",
              "    <tr>\n",
              "      <th>0</th>\n",
              "      <td>Bolivia</td>\n",
              "      <td>Uruguay</td>\n",
              "      <td>3</td>\n",
              "      <td>1</td>\n",
              "      <td>FIFA World Cup qualification</td>\n",
              "      <td>La Paz</td>\n",
              "      <td>Bolivia</td>\n",
              "      <td>False</td>\n",
              "      <td>win</td>\n",
              "      <td>8</td>\n",
              "      <td>1993</td>\n",
              "      <td>Bolivia  vs  Uruguay</td>\n",
              "      <td>59.0</td>\n",
              "      <td>22.0</td>\n",
              "    </tr>\n",
              "    <tr>\n",
              "      <th>1</th>\n",
              "      <td>Brazil</td>\n",
              "      <td>Mexico</td>\n",
              "      <td>1</td>\n",
              "      <td>1</td>\n",
              "      <td>Friendly</td>\n",
              "      <td>Maceió</td>\n",
              "      <td>Brazil</td>\n",
              "      <td>False</td>\n",
              "      <td>draw</td>\n",
              "      <td>8</td>\n",
              "      <td>1993</td>\n",
              "      <td>Brazil  vs  Mexico</td>\n",
              "      <td>8.0</td>\n",
              "      <td>14.0</td>\n",
              "    </tr>\n",
              "  </tbody>\n",
              "</table>\n",
              "</div>"
            ],
            "text/plain": [
              "  home_team away_team  ...  hometeam_rank  awayteam_rank\n",
              "0   Bolivia   Uruguay  ...           59.0           22.0\n",
              "1    Brazil    Mexico  ...            8.0           14.0\n",
              "\n",
              "[2 rows x 14 columns]"
            ]
          },
          "metadata": {
            "tags": []
          },
          "execution_count": 35
        }
      ]
    },
    {
      "cell_type": "code",
      "metadata": {
        "id": "_upg5NVkjewB",
        "colab_type": "code",
        "outputId": "af425506-44c1-427f-8368-8f78148f5e81",
        "colab": {
          "base_uri": "https://localhost:8080/",
          "height": 177
        }
      },
      "source": [
        "#renaming columns\n",
        "df.rename(columns = {'home_score_x': 'home_score', 'away_score_x': 'away_score', 'tournament_x': 'tournament', 'city_x': 'city', 'country_x': 'country',\\\n",
        "                        'neutral_x': 'neutral', 'game_result_x': 'game_result', 'game_x': 'game'}, inplace = True)\n",
        "df.head(2)"
      ],
      "execution_count": 0,
      "outputs": [
        {
          "output_type": "execute_result",
          "data": {
            "text/html": [
              "<div>\n",
              "<style scoped>\n",
              "    .dataframe tbody tr th:only-of-type {\n",
              "        vertical-align: middle;\n",
              "    }\n",
              "\n",
              "    .dataframe tbody tr th {\n",
              "        vertical-align: top;\n",
              "    }\n",
              "\n",
              "    .dataframe thead th {\n",
              "        text-align: right;\n",
              "    }\n",
              "</style>\n",
              "<table border=\"1\" class=\"dataframe\">\n",
              "  <thead>\n",
              "    <tr style=\"text-align: right;\">\n",
              "      <th></th>\n",
              "      <th>home_team</th>\n",
              "      <th>away_team</th>\n",
              "      <th>home_score</th>\n",
              "      <th>away_score</th>\n",
              "      <th>tournament</th>\n",
              "      <th>city</th>\n",
              "      <th>country</th>\n",
              "      <th>neutral</th>\n",
              "      <th>game_result</th>\n",
              "      <th>month</th>\n",
              "      <th>year</th>\n",
              "      <th>game</th>\n",
              "      <th>hometeam_rank</th>\n",
              "      <th>awayteam_rank</th>\n",
              "    </tr>\n",
              "  </thead>\n",
              "  <tbody>\n",
              "    <tr>\n",
              "      <th>0</th>\n",
              "      <td>Bolivia</td>\n",
              "      <td>Uruguay</td>\n",
              "      <td>3</td>\n",
              "      <td>1</td>\n",
              "      <td>FIFA World Cup qualification</td>\n",
              "      <td>La Paz</td>\n",
              "      <td>Bolivia</td>\n",
              "      <td>False</td>\n",
              "      <td>win</td>\n",
              "      <td>8</td>\n",
              "      <td>1993</td>\n",
              "      <td>Bolivia  vs  Uruguay</td>\n",
              "      <td>59.0</td>\n",
              "      <td>22.0</td>\n",
              "    </tr>\n",
              "    <tr>\n",
              "      <th>1</th>\n",
              "      <td>Brazil</td>\n",
              "      <td>Mexico</td>\n",
              "      <td>1</td>\n",
              "      <td>1</td>\n",
              "      <td>Friendly</td>\n",
              "      <td>Maceió</td>\n",
              "      <td>Brazil</td>\n",
              "      <td>False</td>\n",
              "      <td>draw</td>\n",
              "      <td>8</td>\n",
              "      <td>1993</td>\n",
              "      <td>Brazil  vs  Mexico</td>\n",
              "      <td>8.0</td>\n",
              "      <td>14.0</td>\n",
              "    </tr>\n",
              "  </tbody>\n",
              "</table>\n",
              "</div>"
            ],
            "text/plain": [
              "  home_team away_team  ...  hometeam_rank  awayteam_rank\n",
              "0   Bolivia   Uruguay  ...           59.0           22.0\n",
              "1    Brazil    Mexico  ...            8.0           14.0\n",
              "\n",
              "[2 rows x 14 columns]"
            ]
          },
          "metadata": {
            "tags": []
          },
          "execution_count": 150
        }
      ]
    },
    {
      "cell_type": "markdown",
      "metadata": {
        "id": "MuSeo3q4neWL",
        "colab_type": "text"
      },
      "source": [
        "# Exploratory Data Analysis"
      ]
    },
    {
      "cell_type": "code",
      "metadata": {
        "id": "8pLeL1wDq-LB",
        "colab_type": "code",
        "outputId": "a619b42b-a4ff-46bc-ff98-aca45b47ef6c",
        "colab": {
          "base_uri": "https://localhost:8080/",
          "height": 718
        }
      },
      "source": [
        "#created a list for all the numerical columns in the df dataframe\n",
        "#used a for loop to iterate over the list of the numerical columns so as to plot all the boxplots\n",
        "numericcols = ['home_score', 'away_score','neutral','month', 'year','hometeam_rank', 'awayteam_rank']\n",
        "fig, axes = plt.subplots(ncols = 2, nrows = 3, figsize=(14,12))\n",
        "for ax, data,column in zip(axes.flatten(),df,numericcols):\n",
        "  sns.boxplot(df[column],ax=ax)"
      ],
      "execution_count": 0,
      "outputs": [
        {
          "output_type": "display_data",
          "data": {
            "image/png": "[encoded data removed]",
            "text/plain": [
              "<Figure size 1008x864 with 6 Axes>"
            ]
          },
          "metadata": {
            "tags": []
          }
        }
      ]
    },
    {
      "cell_type": "markdown",
      "metadata": {
        "id": "A_S9TZqnSQMm",
        "colab_type": "text"
      },
      "source": [
        "From the observations, the home score and away scores has presence of outliers. Next we shall check the unique values in both the columns to determine what to do with the outliers. There seems to be goal scores that are way too high. I shall remove them for the purpose of creating my model."
      ]
    },
    {
      "cell_type": "code",
      "metadata": {
        "id": "yejrBTgZuCL5",
        "colab_type": "code",
        "colab": {}
      },
      "source": [
        "#dropping outliers in the awayscore and homescore columns\n",
        "df=df[df['home_score']<=5]"
      ],
      "execution_count": 0,
      "outputs": []
    },
    {
      "cell_type": "code",
      "metadata": {
        "id": "kQUYD8OPlaDZ",
        "colab_type": "code",
        "outputId": "a311aca1-df90-4e26-fff4-1f1c97171f7c",
        "colab": {
          "base_uri": "https://localhost:8080/",
          "height": 34
        }
      },
      "source": [
        "df['home_score'].unique()"
      ],
      "execution_count": 0,
      "outputs": [
        {
          "output_type": "execute_result",
          "data": {
            "text/plain": [
              "array([3, 1, 5, 0, 4, 2])"
            ]
          },
          "metadata": {
            "tags": []
          },
          "execution_count": 152
        }
      ]
    },
    {
      "cell_type": "code",
      "metadata": {
        "id": "PNfEDm47wgx5",
        "colab_type": "code",
        "colab": {}
      },
      "source": [
        "df=df[df['away_score']<=5]"
      ],
      "execution_count": 0,
      "outputs": []
    },
    {
      "cell_type": "code",
      "metadata": {
        "id": "hZIJlOAYlaAk",
        "colab_type": "code",
        "outputId": "0aa4ccfb-598e-4833-bd66-2be1fbafa3de",
        "colab": {
          "base_uri": "https://localhost:8080/",
          "height": 34
        }
      },
      "source": [
        "df['away_score'].unique()"
      ],
      "execution_count": 0,
      "outputs": [
        {
          "output_type": "execute_result",
          "data": {
            "text/plain": [
              "array([1, 0, 3, 2, 5, 4])"
            ]
          },
          "metadata": {
            "tags": []
          },
          "execution_count": 104
        }
      ]
    },
    {
      "cell_type": "code",
      "metadata": {
        "id": "e33Nhb2_lZ9U",
        "colab_type": "code",
        "outputId": "f23f96c0-d696-48d6-d8fe-52d0b4352a34",
        "colab": {
          "base_uri": "https://localhost:8080/",
          "height": 287
        }
      },
      "source": [
        "#this shows the descriptive statistics of the dataset\n",
        "df.describe()"
      ],
      "execution_count": 0,
      "outputs": [
        {
          "output_type": "execute_result",
          "data": {
            "text/html": [
              "<div>\n",
              "<style scoped>\n",
              "    .dataframe tbody tr th:only-of-type {\n",
              "        vertical-align: middle;\n",
              "    }\n",
              "\n",
              "    .dataframe tbody tr th {\n",
              "        vertical-align: top;\n",
              "    }\n",
              "\n",
              "    .dataframe thead th {\n",
              "        text-align: right;\n",
              "    }\n",
              "</style>\n",
              "<table border=\"1\" class=\"dataframe\">\n",
              "  <thead>\n",
              "    <tr style=\"text-align: right;\">\n",
              "      <th></th>\n",
              "      <th>home_score</th>\n",
              "      <th>away_score</th>\n",
              "      <th>month</th>\n",
              "      <th>year</th>\n",
              "      <th>hometeam_rank</th>\n",
              "      <th>awayteam_rank</th>\n",
              "    </tr>\n",
              "  </thead>\n",
              "  <tbody>\n",
              "    <tr>\n",
              "      <th>count</th>\n",
              "      <td>17066.000000</td>\n",
              "      <td>17066.000000</td>\n",
              "      <td>17066.000000</td>\n",
              "      <td>17066.000000</td>\n",
              "      <td>17066.000000</td>\n",
              "      <td>17066.000000</td>\n",
              "    </tr>\n",
              "    <tr>\n",
              "      <th>mean</th>\n",
              "      <td>1.467069</td>\n",
              "      <td>1.022149</td>\n",
              "      <td>6.851107</td>\n",
              "      <td>2006.412985</td>\n",
              "      <td>76.466893</td>\n",
              "      <td>78.611450</td>\n",
              "    </tr>\n",
              "    <tr>\n",
              "      <th>std</th>\n",
              "      <td>1.278779</td>\n",
              "      <td>1.096611</td>\n",
              "      <td>3.295725</td>\n",
              "      <td>6.802316</td>\n",
              "      <td>50.294039</td>\n",
              "      <td>51.293821</td>\n",
              "    </tr>\n",
              "    <tr>\n",
              "      <th>min</th>\n",
              "      <td>0.000000</td>\n",
              "      <td>0.000000</td>\n",
              "      <td>1.000000</td>\n",
              "      <td>1993.000000</td>\n",
              "      <td>1.000000</td>\n",
              "      <td>1.000000</td>\n",
              "    </tr>\n",
              "    <tr>\n",
              "      <th>25%</th>\n",
              "      <td>0.000000</td>\n",
              "      <td>0.000000</td>\n",
              "      <td>4.000000</td>\n",
              "      <td>2001.000000</td>\n",
              "      <td>34.000000</td>\n",
              "      <td>36.000000</td>\n",
              "    </tr>\n",
              "    <tr>\n",
              "      <th>50%</th>\n",
              "      <td>1.000000</td>\n",
              "      <td>1.000000</td>\n",
              "      <td>7.000000</td>\n",
              "      <td>2007.000000</td>\n",
              "      <td>71.000000</td>\n",
              "      <td>73.000000</td>\n",
              "    </tr>\n",
              "    <tr>\n",
              "      <th>75%</th>\n",
              "      <td>2.000000</td>\n",
              "      <td>2.000000</td>\n",
              "      <td>10.000000</td>\n",
              "      <td>2012.000000</td>\n",
              "      <td>112.000000</td>\n",
              "      <td>114.000000</td>\n",
              "    </tr>\n",
              "    <tr>\n",
              "      <th>max</th>\n",
              "      <td>5.000000</td>\n",
              "      <td>5.000000</td>\n",
              "      <td>12.000000</td>\n",
              "      <td>2018.000000</td>\n",
              "      <td>209.000000</td>\n",
              "      <td>209.000000</td>\n",
              "    </tr>\n",
              "  </tbody>\n",
              "</table>\n",
              "</div>"
            ],
            "text/plain": [
              "         home_score    away_score  ...  hometeam_rank  awayteam_rank\n",
              "count  17066.000000  17066.000000  ...   17066.000000   17066.000000\n",
              "mean       1.467069      1.022149  ...      76.466893      78.611450\n",
              "std        1.278779      1.096611  ...      50.294039      51.293821\n",
              "min        0.000000      0.000000  ...       1.000000       1.000000\n",
              "25%        0.000000      0.000000  ...      34.000000      36.000000\n",
              "50%        1.000000      1.000000  ...      71.000000      73.000000\n",
              "75%        2.000000      2.000000  ...     112.000000     114.000000\n",
              "max        5.000000      5.000000  ...     209.000000     209.000000\n",
              "\n",
              "[8 rows x 6 columns]"
            ]
          },
          "metadata": {
            "tags": []
          },
          "execution_count": 154
        }
      ]
    },
    {
      "cell_type": "code",
      "metadata": {
        "id": "SLiFsJUFlZ3n",
        "colab_type": "code",
        "outputId": "bacf1a3b-c5ec-4160-e10d-baa86e18e187",
        "colab": {
          "base_uri": "https://localhost:8080/",
          "height": 158
        }
      },
      "source": [
        "#measures of central tendencies\n",
        "#returns the middle value of the variable\n",
        "df.median()"
      ],
      "execution_count": 0,
      "outputs": [
        {
          "output_type": "execute_result",
          "data": {
            "text/plain": [
              "home_score          1.0\n",
              "away_score          1.0\n",
              "neutral             0.0\n",
              "month               7.0\n",
              "year             2007.0\n",
              "hometeam_rank      71.0\n",
              "awayteam_rank      73.0\n",
              "dtype: float64"
            ]
          },
          "metadata": {
            "tags": []
          },
          "execution_count": 155
        }
      ]
    },
    {
      "cell_type": "code",
      "metadata": {
        "id": "L5XAlnrllZ0k",
        "colab_type": "code",
        "outputId": "a634bcef-dd28-4557-e00c-deb70491acb8",
        "colab": {
          "base_uri": "https://localhost:8080/",
          "height": 77
        }
      },
      "source": [
        "#returns the most frequent number that appears in the dataset\n",
        "df.mode()"
      ],
      "execution_count": 0,
      "outputs": [
        {
          "output_type": "execute_result",
          "data": {
            "text/html": [
              "<div>\n",
              "<style scoped>\n",
              "    .dataframe tbody tr th:only-of-type {\n",
              "        vertical-align: middle;\n",
              "    }\n",
              "\n",
              "    .dataframe tbody tr th {\n",
              "        vertical-align: top;\n",
              "    }\n",
              "\n",
              "    .dataframe thead th {\n",
              "        text-align: right;\n",
              "    }\n",
              "</style>\n",
              "<table border=\"1\" class=\"dataframe\">\n",
              "  <thead>\n",
              "    <tr style=\"text-align: right;\">\n",
              "      <th></th>\n",
              "      <th>home_team</th>\n",
              "      <th>away_team</th>\n",
              "      <th>home_score</th>\n",
              "      <th>away_score</th>\n",
              "      <th>tournament</th>\n",
              "      <th>city</th>\n",
              "      <th>country</th>\n",
              "      <th>neutral</th>\n",
              "      <th>game_result</th>\n",
              "      <th>month</th>\n",
              "      <th>year</th>\n",
              "      <th>game</th>\n",
              "      <th>hometeam_rank</th>\n",
              "      <th>awayteam_rank</th>\n",
              "    </tr>\n",
              "  </thead>\n",
              "  <tbody>\n",
              "    <tr>\n",
              "      <th>0</th>\n",
              "      <td>Mexico</td>\n",
              "      <td>Zambia</td>\n",
              "      <td>1</td>\n",
              "      <td>0</td>\n",
              "      <td>Friendly</td>\n",
              "      <td>Doha</td>\n",
              "      <td>United States</td>\n",
              "      <td>False</td>\n",
              "      <td>win</td>\n",
              "      <td>6</td>\n",
              "      <td>2000</td>\n",
              "      <td>El Salvador  vs  Guatemala</td>\n",
              "      <td>5.0</td>\n",
              "      <td>1.0</td>\n",
              "    </tr>\n",
              "  </tbody>\n",
              "</table>\n",
              "</div>"
            ],
            "text/plain": [
              "  home_team away_team  ...  hometeam_rank  awayteam_rank\n",
              "0    Mexico    Zambia  ...            5.0            1.0\n",
              "\n",
              "[1 rows x 14 columns]"
            ]
          },
          "metadata": {
            "tags": []
          },
          "execution_count": 56
        }
      ]
    },
    {
      "cell_type": "code",
      "metadata": {
        "id": "WW2qqPnUlZxm",
        "colab_type": "code",
        "outputId": "1c5d7c45-3381-49f1-b058-516fdd3f7b1b",
        "colab": {
          "base_uri": "https://localhost:8080/",
          "height": 158
        }
      },
      "source": [
        "##this shows the average of the variables in the dataset\n",
        "df.mean()"
      ],
      "execution_count": 0,
      "outputs": [
        {
          "output_type": "execute_result",
          "data": {
            "text/plain": [
              "home_score          1.467069\n",
              "away_score          1.022149\n",
              "neutral             0.231806\n",
              "month               6.851107\n",
              "year             2006.412985\n",
              "hometeam_rank      76.466893\n",
              "awayteam_rank      78.611450\n",
              "dtype: float64"
            ]
          },
          "metadata": {
            "tags": []
          },
          "execution_count": 105
        }
      ]
    },
    {
      "cell_type": "code",
      "metadata": {
        "id": "OxLHSvRCdKXh",
        "colab_type": "code",
        "colab": {
          "base_uri": "https://localhost:8080/",
          "height": 538
        },
        "outputId": "b5a0021d-07bf-4339-8a0b-b4d12aad83e6"
      },
      "source": [
        "#plotting for wins\n",
        "df.groupby('game_result')['country'].count().plot(kind = 'bar', color = 'green', figsize = (10,8))\n",
        "plt.xlabel('Game_Result', fontsize = 16)\n",
        "plt.ylabel('Results Total', fontsize = 16)\n",
        "plt.title('Results of Football Games', fontsize = 20)\n",
        "plt.show()"
      ],
      "execution_count": 263,
      "outputs": [
        {
          "output_type": "display_data",
          "data": {
            "image/png": "[encoded data removed]",
            "text/plain": [
              "<Figure size 720x576 with 1 Axes>"
            ]
          },
          "metadata": {
            "tags": []
          }
        }
      ]
    },
    {
      "cell_type": "markdown",
      "metadata": {
        "id": "SMqvtuj_fyLq",
        "colab_type": "text"
      },
      "source": [
        "It can be seen that there are more wins in the game results. Loses and draws appear to be almost similar."
      ]
    },
    {
      "cell_type": "code",
      "metadata": {
        "id": "aMg_aR_wbM0w",
        "colab_type": "code",
        "colab": {
          "base_uri": "https://localhost:8080/",
          "height": 87
        },
        "outputId": "d8f81bb9-e6a6-495b-e976-f8dd6a04c9f7"
      },
      "source": [
        "df.columns"
      ],
      "execution_count": 243,
      "outputs": [
        {
          "output_type": "execute_result",
          "data": {
            "text/plain": [
              "Index(['home_team', 'away_team', 'home_score', 'away_score', 'tournament',\n",
              "       'city', 'country', 'neutral', 'game_result', 'month', 'year', 'game',\n",
              "       'hometeam_rank', 'awayteam_rank', 'tourna'],\n",
              "      dtype='object')"
            ]
          },
          "metadata": {
            "tags": []
          },
          "execution_count": 243
        }
      ]
    },
    {
      "cell_type": "code",
      "metadata": {
        "id": "KxAiBp5ot7Rm",
        "colab_type": "code",
        "outputId": "b02ab23b-e12c-49c6-ef23-c1d612d7f68f",
        "colab": {
          "base_uri": "https://localhost:8080/",
          "height": 283
        }
      },
      "source": [
        "#converting the column datatypes\n",
        "df.dtypes"
      ],
      "execution_count": 0,
      "outputs": [
        {
          "output_type": "execute_result",
          "data": {
            "text/plain": [
              "home_team         object\n",
              "away_team         object\n",
              "home_score         int64\n",
              "away_score         int64\n",
              "tournament        object\n",
              "city              object\n",
              "country           object\n",
              "neutral             bool\n",
              "game_result       object\n",
              "month              int64\n",
              "year               int64\n",
              "game              object\n",
              "hometeam_rank    float64\n",
              "awayteam_rank    float64\n",
              "dtype: object"
            ]
          },
          "metadata": {
            "tags": []
          },
          "execution_count": 80
        }
      ]
    },
    {
      "cell_type": "code",
      "metadata": {
        "id": "UsZxyk5A83t0",
        "colab_type": "code",
        "colab": {}
      },
      "source": [
        "#converting the column types to category datatype\n",
        "df[['home_team', 'away_team','tournament','city', 'country','game_result','game']] = df[['home_team', 'away_team','tournament','city', 'country','game_result','game']].astype('category')"
      ],
      "execution_count": 0,
      "outputs": []
    },
    {
      "cell_type": "code",
      "metadata": {
        "id": "JyWT-gluA462",
        "colab_type": "code",
        "outputId": "1c555ace-0794-4ff2-d88a-9166a953c66a",
        "colab": {
          "base_uri": "https://localhost:8080/",
          "height": 283
        }
      },
      "source": [
        "df.dtypes"
      ],
      "execution_count": 0,
      "outputs": [
        {
          "output_type": "execute_result",
          "data": {
            "text/plain": [
              "home_team        category\n",
              "away_team        category\n",
              "home_score          int64\n",
              "away_score          int64\n",
              "tournament       category\n",
              "city             category\n",
              "country          category\n",
              "neutral              bool\n",
              "game_result      category\n",
              "month               int64\n",
              "year                int64\n",
              "game             category\n",
              "hometeam_rank     float64\n",
              "awayteam_rank     float64\n",
              "dtype: object"
            ]
          },
          "metadata": {
            "tags": []
          },
          "execution_count": 47
        }
      ]
    },
    {
      "cell_type": "code",
      "metadata": {
        "id": "Ef6AsochBTql",
        "colab_type": "code",
        "colab": {}
      },
      "source": [
        "pairplot = df.drop('neutral', axis = 1)"
      ],
      "execution_count": 0,
      "outputs": []
    },
    {
      "cell_type": "code",
      "metadata": {
        "id": "7Xz0KQyBtZob",
        "colab_type": "code",
        "outputId": "df2fdec9-ec28-4132-f264-e8cfcacc7eb1",
        "colab": {
          "base_uri": "https://localhost:8080/",
          "height": 1000
        }
      },
      "source": [
        "#plotting the scatter plots for my dataset \n",
        "#below shows the scatter plots and histograms of all the numerical variables in the data set\n",
        "sns.pairplot(pairplot)"
      ],
      "execution_count": 0,
      "outputs": [
        {
          "output_type": "execute_result",
          "data": {
            "text/plain": [
              "<seaborn.axisgrid.PairGrid at 0x7fc718e32dd8>"
            ]
          },
          "metadata": {
            "tags": []
          },
          "execution_count": 107
        },
        {
          "output_type": "display_data",
          "data": {
            "image/png": "[encoded data removed]",
            "text/plain": [
              "<Figure size 1080x1080 with 42 Axes>"
            ]
          },
          "metadata": {
            "tags": []
          }
        }
      ]
    },
    {
      "cell_type": "markdown",
      "metadata": {
        "id": "T2ovgdeoJqjB",
        "colab_type": "text"
      },
      "source": [
        "## Implementing the Solution\n",
        "Here I shall perform Logistic regression to predict the result of a game, either a win, loss or draw and Polynomial regression to predict how many goals a team can score in a match "
      ]
    },
    {
      "cell_type": "code",
      "metadata": {
        "id": "ptD-tAVjCBFf",
        "colab_type": "code",
        "outputId": "a4a3f035-f8d6-4be8-ccae-5349a33e2d24",
        "colab": {
          "base_uri": "https://localhost:8080/",
          "height": 264
        }
      },
      "source": [
        "df.head()"
      ],
      "execution_count": 0,
      "outputs": [
        {
          "output_type": "execute_result",
          "data": {
            "text/html": [
              "<div>\n",
              "<style scoped>\n",
              "    .dataframe tbody tr th:only-of-type {\n",
              "        vertical-align: middle;\n",
              "    }\n",
              "\n",
              "    .dataframe tbody tr th {\n",
              "        vertical-align: top;\n",
              "    }\n",
              "\n",
              "    .dataframe thead th {\n",
              "        text-align: right;\n",
              "    }\n",
              "</style>\n",
              "<table border=\"1\" class=\"dataframe\">\n",
              "  <thead>\n",
              "    <tr style=\"text-align: right;\">\n",
              "      <th></th>\n",
              "      <th>home_team</th>\n",
              "      <th>away_team</th>\n",
              "      <th>home_score</th>\n",
              "      <th>away_score</th>\n",
              "      <th>tournament</th>\n",
              "      <th>city</th>\n",
              "      <th>country</th>\n",
              "      <th>neutral</th>\n",
              "      <th>game_result</th>\n",
              "      <th>month</th>\n",
              "      <th>year</th>\n",
              "      <th>game</th>\n",
              "      <th>hometeam_rank</th>\n",
              "      <th>awayteam_rank</th>\n",
              "      <th>tourna</th>\n",
              "    </tr>\n",
              "  </thead>\n",
              "  <tbody>\n",
              "    <tr>\n",
              "      <th>0</th>\n",
              "      <td>Bolivia</td>\n",
              "      <td>Uruguay</td>\n",
              "      <td>3</td>\n",
              "      <td>1</td>\n",
              "      <td>FIFA World Cup qualification</td>\n",
              "      <td>La Paz</td>\n",
              "      <td>Bolivia</td>\n",
              "      <td>0</td>\n",
              "      <td>win</td>\n",
              "      <td>8</td>\n",
              "      <td>1993</td>\n",
              "      <td>Bolivia  vs  Uruguay</td>\n",
              "      <td>59.0</td>\n",
              "      <td>22.0</td>\n",
              "      <td>others</td>\n",
              "    </tr>\n",
              "    <tr>\n",
              "      <th>1</th>\n",
              "      <td>Brazil</td>\n",
              "      <td>Mexico</td>\n",
              "      <td>1</td>\n",
              "      <td>1</td>\n",
              "      <td>Friendly</td>\n",
              "      <td>Maceió</td>\n",
              "      <td>Brazil</td>\n",
              "      <td>0</td>\n",
              "      <td>draw</td>\n",
              "      <td>8</td>\n",
              "      <td>1993</td>\n",
              "      <td>Brazil  vs  Mexico</td>\n",
              "      <td>8.0</td>\n",
              "      <td>14.0</td>\n",
              "      <td>friendly</td>\n",
              "    </tr>\n",
              "    <tr>\n",
              "      <th>2</th>\n",
              "      <td>Ecuador</td>\n",
              "      <td>Venezuela</td>\n",
              "      <td>5</td>\n",
              "      <td>0</td>\n",
              "      <td>FIFA World Cup qualification</td>\n",
              "      <td>Quito</td>\n",
              "      <td>Ecuador</td>\n",
              "      <td>0</td>\n",
              "      <td>win</td>\n",
              "      <td>8</td>\n",
              "      <td>1993</td>\n",
              "      <td>Ecuador  vs  Venezuela</td>\n",
              "      <td>35.0</td>\n",
              "      <td>94.0</td>\n",
              "      <td>others</td>\n",
              "    </tr>\n",
              "    <tr>\n",
              "      <th>3</th>\n",
              "      <td>Guinea</td>\n",
              "      <td>Sierra Leone</td>\n",
              "      <td>1</td>\n",
              "      <td>0</td>\n",
              "      <td>Friendly</td>\n",
              "      <td>Conakry</td>\n",
              "      <td>Guinea</td>\n",
              "      <td>0</td>\n",
              "      <td>win</td>\n",
              "      <td>8</td>\n",
              "      <td>1993</td>\n",
              "      <td>Guinea  vs  Sierra Leone</td>\n",
              "      <td>65.0</td>\n",
              "      <td>86.0</td>\n",
              "      <td>friendly</td>\n",
              "    </tr>\n",
              "    <tr>\n",
              "      <th>4</th>\n",
              "      <td>Guinea</td>\n",
              "      <td>Sierra Leone</td>\n",
              "      <td>1</td>\n",
              "      <td>0</td>\n",
              "      <td>Friendly</td>\n",
              "      <td>Conakry</td>\n",
              "      <td>Guinea</td>\n",
              "      <td>0</td>\n",
              "      <td>win</td>\n",
              "      <td>8</td>\n",
              "      <td>1993</td>\n",
              "      <td>Guinea  vs  Sierra Leone</td>\n",
              "      <td>65.0</td>\n",
              "      <td>86.0</td>\n",
              "      <td>friendly</td>\n",
              "    </tr>\n",
              "  </tbody>\n",
              "</table>\n",
              "</div>"
            ],
            "text/plain": [
              "  home_team     away_team  home_score  ...  hometeam_rank awayteam_rank    tourna\n",
              "0   Bolivia       Uruguay           3  ...           59.0          22.0    others\n",
              "1    Brazil        Mexico           1  ...            8.0          14.0  friendly\n",
              "2   Ecuador     Venezuela           5  ...           35.0          94.0    others\n",
              "3    Guinea  Sierra Leone           1  ...           65.0          86.0  friendly\n",
              "4    Guinea  Sierra Leone           1  ...           65.0          86.0  friendly\n",
              "\n",
              "[5 rows x 15 columns]"
            ]
          },
          "metadata": {
            "tags": []
          },
          "execution_count": 108
        }
      ]
    },
    {
      "cell_type": "code",
      "metadata": {
        "id": "DVzOMW9uPtBJ",
        "colab_type": "code",
        "outputId": "9390dd9e-8598-4515-f1aa-f6921b271f3b",
        "colab": {
          "base_uri": "https://localhost:8080/",
          "height": 34
        }
      },
      "source": [
        "df['neutral'].unique()"
      ],
      "execution_count": 0,
      "outputs": [
        {
          "output_type": "execute_result",
          "data": {
            "text/plain": [
              "array([False,  True])"
            ]
          },
          "metadata": {
            "tags": []
          },
          "execution_count": 158
        }
      ]
    },
    {
      "cell_type": "code",
      "metadata": {
        "id": "QaRH9GX7K3TF",
        "colab_type": "code",
        "colab": {}
      },
      "source": [
        "#performing feature engineering in variables that need encoding\n",
        "df['neutral'] = pd.get_dummies(df['neutral'], drop_first = True)"
      ],
      "execution_count": 0,
      "outputs": []
    },
    {
      "cell_type": "code",
      "metadata": {
        "id": "knrqgv_5QnKU",
        "colab_type": "code",
        "outputId": "f0e33e21-5079-405a-bdba-62304a28a5c5",
        "colab": {
          "base_uri": "https://localhost:8080/",
          "height": 1000
        }
      },
      "source": [
        "#checking the unique observations in the tournament column so as to have 3 tournament types: world cup, friendly and others\n",
        "df['tournament'].unique().to_list()"
      ],
      "execution_count": 0,
      "outputs": [
        {
          "output_type": "execute_result",
          "data": {
            "text/plain": [
              "['FIFA World Cup qualification',\n",
              " 'Friendly',\n",
              " 'African Cup of Nations qualification',\n",
              " 'Amílcar Cabral Cup',\n",
              " 'United Arab Emirates Friendship Tournament',\n",
              " 'Malta International Tournament',\n",
              " 'CFU Caribbean Cup qualification',\n",
              " 'African Cup of Nations',\n",
              " 'CFU Caribbean Cup',\n",
              " 'UEFA Euro qualification',\n",
              " 'Kirin Cup',\n",
              " 'FIFA World Cup',\n",
              " 'Oceania Nations Cup qualification',\n",
              " 'Baltic Cup',\n",
              " 'Gulf Cup',\n",
              " 'Simba Tournament',\n",
              " 'CECAFA Cup',\n",
              " 'Dynasty Cup',\n",
              " \"King's Cup\",\n",
              " 'SAFF Cup',\n",
              " 'Copa Paz del Chaco',\n",
              " 'Korea Cup',\n",
              " 'USA Cup',\n",
              " 'Copa América',\n",
              " 'Merdeka Tournament',\n",
              " 'South Pacific Games',\n",
              " 'UNCAF Cup',\n",
              " 'Oceania Nations Cup',\n",
              " 'Windward Islands Tournament',\n",
              " 'Gold Cup',\n",
              " 'AFC Asian Cup qualification',\n",
              " 'Lunar New Year Cup',\n",
              " 'AFF Championship',\n",
              " 'AFC Asian Cup',\n",
              " 'King Hassan II Tournament',\n",
              " 'Cyprus International Tournament',\n",
              " 'Dunhill Cup',\n",
              " 'Nehru Cup',\n",
              " 'COSAFA Cup',\n",
              " 'Tournoi de France',\n",
              " 'Confederations Cup',\n",
              " 'UAFA Cup',\n",
              " 'Gold Cup qualification',\n",
              " 'UNIFFAC Cup',\n",
              " 'Nordic Championship',\n",
              " 'WAFF Championship',\n",
              " 'UEFA Euro',\n",
              " 'Millennium Cup',\n",
              " \"Prime Minister's Cup\",\n",
              " 'SKN Football Festival',\n",
              " 'EAFF Championship',\n",
              " 'AFC Challenge Cup',\n",
              " 'Copa del Pacífico',\n",
              " 'UAFA Cup qualification',\n",
              " 'AFC Challenge Cup qualification',\n",
              " 'African Nations Championship',\n",
              " 'VFF Cup',\n",
              " 'Dragon Cup',\n",
              " 'Nile Basin Tournament',\n",
              " 'Nations Cup',\n",
              " 'Pacific Games',\n",
              " 'ABCS Tournament',\n",
              " 'OSN Cup',\n",
              " 'Copa América qualification',\n",
              " 'Intercontinental Cup']"
            ]
          },
          "metadata": {
            "tags": []
          },
          "execution_count": 73
        }
      ]
    },
    {
      "cell_type": "code",
      "metadata": {
        "id": "xQ2etqH-K3RF",
        "colab_type": "code",
        "colab": {}
      },
      "source": [
        "#using a finction to have 3 tournament types\n",
        "def tourna(x):\n",
        "  if x == 'Fifa World Cup':\n",
        "    return 'world cup'\n",
        "  elif x == 'Friendly':\n",
        "    return 'friendly'\n",
        "  else:\n",
        "    return 'others'"
      ],
      "execution_count": 0,
      "outputs": []
    },
    {
      "cell_type": "code",
      "metadata": {
        "id": "VN7ksMx8K3Kt",
        "colab_type": "code",
        "colab": {}
      },
      "source": [
        "#applying the function for the tournament types\n",
        "df['tourna']=df.tournament.apply(lambda x: tourna(x))"
      ],
      "execution_count": 0,
      "outputs": []
    },
    {
      "cell_type": "code",
      "metadata": {
        "id": "QxBQ9zh3K3Jq",
        "colab_type": "code",
        "colab": {}
      },
      "source": [
        "#dropping the column tornament and remaining with the tourna column that has the 3 tournament types\n",
        "df.drop('tournament', axis =1)"
      ],
      "execution_count": 0,
      "outputs": []
    },
    {
      "cell_type": "markdown",
      "metadata": {
        "id": "Uenq0Xa3W2ax",
        "colab_type": "text"
      },
      "source": [
        "# Polynomial Regression"
      ]
    },
    {
      "cell_type": "code",
      "metadata": {
        "id": "eAtVNsLSX4R0",
        "colab_type": "code",
        "outputId": "b0bb3f0e-3950-4540-c312-8ba0449892e3",
        "colab": {
          "base_uri": "https://localhost:8080/",
          "height": 87
        }
      },
      "source": [
        "df.columns"
      ],
      "execution_count": 0,
      "outputs": [
        {
          "output_type": "execute_result",
          "data": {
            "text/plain": [
              "Index(['home_team', 'away_team', 'home_score', 'away_score', 'tournament',\n",
              "       'city', 'country', 'neutral', 'game_result', 'month', 'year', 'game',\n",
              "       'hometeam_rank', 'awayteam_rank', 'tourna'],\n",
              "      dtype='object')"
            ]
          },
          "metadata": {
            "tags": []
          },
          "execution_count": 80
        }
      ]
    },
    {
      "cell_type": "code",
      "metadata": {
        "id": "LhPXpMAFatUr",
        "colab_type": "code",
        "outputId": "13a38767-3e2e-472c-fd2a-e5adf7f7e048",
        "colab": {
          "base_uri": "https://localhost:8080/",
          "height": 257
        }
      },
      "source": [
        "#checking for multicollinearity\n",
        "# Let's display the correlations between the variables\n",
        "correlations = df.corr()\n",
        "\n",
        "correlations"
      ],
      "execution_count": 0,
      "outputs": [
        {
          "output_type": "execute_result",
          "data": {
            "text/html": [
              "<div>\n",
              "<style scoped>\n",
              "    .dataframe tbody tr th:only-of-type {\n",
              "        vertical-align: middle;\n",
              "    }\n",
              "\n",
              "    .dataframe tbody tr th {\n",
              "        vertical-align: top;\n",
              "    }\n",
              "\n",
              "    .dataframe thead th {\n",
              "        text-align: right;\n",
              "    }\n",
              "</style>\n",
              "<table border=\"1\" class=\"dataframe\">\n",
              "  <thead>\n",
              "    <tr style=\"text-align: right;\">\n",
              "      <th></th>\n",
              "      <th>home_score</th>\n",
              "      <th>away_score</th>\n",
              "      <th>neutral</th>\n",
              "      <th>month</th>\n",
              "      <th>year</th>\n",
              "      <th>hometeam_rank</th>\n",
              "      <th>awayteam_rank</th>\n",
              "    </tr>\n",
              "  </thead>\n",
              "  <tbody>\n",
              "    <tr>\n",
              "      <th>home_score</th>\n",
              "      <td>1.000000</td>\n",
              "      <td>-0.121875</td>\n",
              "      <td>-0.043080</td>\n",
              "      <td>0.028418</td>\n",
              "      <td>-0.031473</td>\n",
              "      <td>-0.155077</td>\n",
              "      <td>0.258048</td>\n",
              "    </tr>\n",
              "    <tr>\n",
              "      <th>away_score</th>\n",
              "      <td>-0.121875</td>\n",
              "      <td>1.000000</td>\n",
              "      <td>0.076531</td>\n",
              "      <td>0.014678</td>\n",
              "      <td>-0.002868</td>\n",
              "      <td>0.171942</td>\n",
              "      <td>-0.191100</td>\n",
              "    </tr>\n",
              "    <tr>\n",
              "      <th>neutral</th>\n",
              "      <td>-0.043080</td>\n",
              "      <td>0.076531</td>\n",
              "      <td>1.000000</td>\n",
              "      <td>-0.097834</td>\n",
              "      <td>0.049733</td>\n",
              "      <td>0.013567</td>\n",
              "      <td>0.039027</td>\n",
              "    </tr>\n",
              "    <tr>\n",
              "      <th>month</th>\n",
              "      <td>0.028418</td>\n",
              "      <td>0.014678</td>\n",
              "      <td>-0.097834</td>\n",
              "      <td>1.000000</td>\n",
              "      <td>-0.001092</td>\n",
              "      <td>0.027648</td>\n",
              "      <td>0.033725</td>\n",
              "    </tr>\n",
              "    <tr>\n",
              "      <th>year</th>\n",
              "      <td>-0.031473</td>\n",
              "      <td>-0.002868</td>\n",
              "      <td>0.049733</td>\n",
              "      <td>-0.001092</td>\n",
              "      <td>1.000000</td>\n",
              "      <td>0.102570</td>\n",
              "      <td>0.107572</td>\n",
              "    </tr>\n",
              "    <tr>\n",
              "      <th>hometeam_rank</th>\n",
              "      <td>-0.155077</td>\n",
              "      <td>0.171942</td>\n",
              "      <td>0.013567</td>\n",
              "      <td>0.027648</td>\n",
              "      <td>0.102570</td>\n",
              "      <td>1.000000</td>\n",
              "      <td>0.494345</td>\n",
              "    </tr>\n",
              "    <tr>\n",
              "      <th>awayteam_rank</th>\n",
              "      <td>0.258048</td>\n",
              "      <td>-0.191100</td>\n",
              "      <td>0.039027</td>\n",
              "      <td>0.033725</td>\n",
              "      <td>0.107572</td>\n",
              "      <td>0.494345</td>\n",
              "      <td>1.000000</td>\n",
              "    </tr>\n",
              "  </tbody>\n",
              "</table>\n",
              "</div>"
            ],
            "text/plain": [
              "               home_score  away_score  ...  hometeam_rank  awayteam_rank\n",
              "home_score       1.000000   -0.121875  ...      -0.155077       0.258048\n",
              "away_score      -0.121875    1.000000  ...       0.171942      -0.191100\n",
              "neutral         -0.043080    0.076531  ...       0.013567       0.039027\n",
              "month            0.028418    0.014678  ...       0.027648       0.033725\n",
              "year            -0.031473   -0.002868  ...       0.102570       0.107572\n",
              "hometeam_rank   -0.155077    0.171942  ...       1.000000       0.494345\n",
              "awayteam_rank    0.258048   -0.191100  ...       0.494345       1.000000\n",
              "\n",
              "[7 rows x 7 columns]"
            ]
          },
          "metadata": {
            "tags": []
          },
          "execution_count": 163
        }
      ]
    },
    {
      "cell_type": "markdown",
      "metadata": {
        "id": "WDM2UyQzmzIN",
        "colab_type": "text"
      },
      "source": [
        "the table shows that the variables are related to one another."
      ]
    },
    {
      "cell_type": "code",
      "metadata": {
        "id": "Hiq6qaocnI8i",
        "colab_type": "code",
        "outputId": "1e94784c-223f-4438-89a3-0232a1befe7e",
        "colab": {
          "base_uri": "https://localhost:8080/",
          "height": 257
        }
      },
      "source": [
        "#compute the VIF score for each variable\n",
        "pd.DataFrame(np.linalg.inv(correlations.values), index = correlations.index, columns=correlations.columns)"
      ],
      "execution_count": 0,
      "outputs": [
        {
          "output_type": "execute_result",
          "data": {
            "text/html": [
              "<div>\n",
              "<style scoped>\n",
              "    .dataframe tbody tr th:only-of-type {\n",
              "        vertical-align: middle;\n",
              "    }\n",
              "\n",
              "    .dataframe tbody tr th {\n",
              "        vertical-align: top;\n",
              "    }\n",
              "\n",
              "    .dataframe thead th {\n",
              "        text-align: right;\n",
              "    }\n",
              "</style>\n",
              "<table border=\"1\" class=\"dataframe\">\n",
              "  <thead>\n",
              "    <tr style=\"text-align: right;\">\n",
              "      <th></th>\n",
              "      <th>home_score</th>\n",
              "      <th>away_score</th>\n",
              "      <th>neutral</th>\n",
              "      <th>month</th>\n",
              "      <th>year</th>\n",
              "      <th>hometeam_rank</th>\n",
              "      <th>awayteam_rank</th>\n",
              "    </tr>\n",
              "  </thead>\n",
              "  <tbody>\n",
              "    <tr>\n",
              "      <th>home_score</th>\n",
              "      <td>1.217034</td>\n",
              "      <td>-0.044124</td>\n",
              "      <td>0.066912</td>\n",
              "      <td>-0.021372</td>\n",
              "      <td>0.047123</td>\n",
              "      <td>0.468528</td>\n",
              "      <td>-0.561060</td>\n",
              "    </tr>\n",
              "    <tr>\n",
              "      <th>away_score</th>\n",
              "      <td>-0.044124</td>\n",
              "      <td>1.162425</td>\n",
              "      <td>-0.105625</td>\n",
              "      <td>-0.029493</td>\n",
              "      <td>0.002610</td>\n",
              "      <td>-0.426886</td>\n",
              "      <td>0.449391</td>\n",
              "    </tr>\n",
              "    <tr>\n",
              "      <th>neutral</th>\n",
              "      <td>0.066912</td>\n",
              "      <td>-0.105625</td>\n",
              "      <td>1.026521</td>\n",
              "      <td>0.101813</td>\n",
              "      <td>-0.044475</td>\n",
              "      <td>0.071475</td>\n",
              "      <td>-0.111496</td>\n",
              "    </tr>\n",
              "    <tr>\n",
              "      <th>month</th>\n",
              "      <td>-0.021372</td>\n",
              "      <td>-0.029493</td>\n",
              "      <td>0.101813</td>\n",
              "      <td>1.012417</td>\n",
              "      <td>-0.000033</td>\n",
              "      <td>-0.011528</td>\n",
              "      <td>-0.032537</td>\n",
              "    </tr>\n",
              "    <tr>\n",
              "      <th>year</th>\n",
              "      <td>0.047123</td>\n",
              "      <td>0.002610</td>\n",
              "      <td>-0.044475</td>\n",
              "      <td>-0.000033</td>\n",
              "      <td>1.019044</td>\n",
              "      <td>-0.050242</td>\n",
              "      <td>-0.094708</td>\n",
              "    </tr>\n",
              "    <tr>\n",
              "      <th>hometeam_rank</th>\n",
              "      <td>0.468528</td>\n",
              "      <td>-0.426886</td>\n",
              "      <td>0.071475</td>\n",
              "      <td>-0.011528</td>\n",
              "      <td>-0.050242</td>\n",
              "      <td>1.653167</td>\n",
              "      <td>-1.016713</td>\n",
              "    </tr>\n",
              "    <tr>\n",
              "      <th>awayteam_rank</th>\n",
              "      <td>-0.561060</td>\n",
              "      <td>0.449391</td>\n",
              "      <td>-0.111496</td>\n",
              "      <td>-0.032537</td>\n",
              "      <td>-0.094708</td>\n",
              "      <td>-1.016713</td>\n",
              "      <td>1.748903</td>\n",
              "    </tr>\n",
              "  </tbody>\n",
              "</table>\n",
              "</div>"
            ],
            "text/plain": [
              "               home_score  away_score  ...  hometeam_rank  awayteam_rank\n",
              "home_score       1.217034   -0.044124  ...       0.468528      -0.561060\n",
              "away_score      -0.044124    1.162425  ...      -0.426886       0.449391\n",
              "neutral          0.066912   -0.105625  ...       0.071475      -0.111496\n",
              "month           -0.021372   -0.029493  ...      -0.011528      -0.032537\n",
              "year             0.047123    0.002610  ...      -0.050242      -0.094708\n",
              "hometeam_rank    0.468528   -0.426886  ...       1.653167      -1.016713\n",
              "awayteam_rank   -0.561060    0.449391  ...      -1.016713       1.748903\n",
              "\n",
              "[7 rows x 7 columns]"
            ]
          },
          "metadata": {
            "tags": []
          },
          "execution_count": 164
        }
      ]
    },
    {
      "cell_type": "markdown",
      "metadata": {
        "id": "wBIdmdQqqifK",
        "colab_type": "text"
      },
      "source": [
        "awayteam_rank has a value of 1.74 which is the highest. Removing it from the dataset to see if the VIF will imporve"
      ]
    },
    {
      "cell_type": "code",
      "metadata": {
        "id": "8bM5Btk5qHTa",
        "colab_type": "code",
        "outputId": "4357663c-cf1f-4974-8d8a-a5a53eac92bc",
        "colab": {
          "base_uri": "https://localhost:8080/",
          "height": 227
        }
      },
      "source": [
        "revised = df.drop(columns=['awayteam_rank'])\n",
        "\n",
        "correlations = revised.corr()\n",
        "pd.DataFrame(np.linalg.inv(correlations.values), index = correlations.index, columns=correlations.columns)"
      ],
      "execution_count": 0,
      "outputs": [
        {
          "output_type": "execute_result",
          "data": {
            "text/html": [
              "<div>\n",
              "<style scoped>\n",
              "    .dataframe tbody tr th:only-of-type {\n",
              "        vertical-align: middle;\n",
              "    }\n",
              "\n",
              "    .dataframe tbody tr th {\n",
              "        vertical-align: top;\n",
              "    }\n",
              "\n",
              "    .dataframe thead th {\n",
              "        text-align: right;\n",
              "    }\n",
              "</style>\n",
              "<table border=\"1\" class=\"dataframe\">\n",
              "  <thead>\n",
              "    <tr style=\"text-align: right;\">\n",
              "      <th></th>\n",
              "      <th>home_score</th>\n",
              "      <th>away_score</th>\n",
              "      <th>neutral</th>\n",
              "      <th>month</th>\n",
              "      <th>year</th>\n",
              "      <th>hometeam_rank</th>\n",
              "    </tr>\n",
              "  </thead>\n",
              "  <tbody>\n",
              "    <tr>\n",
              "      <th>home_score</th>\n",
              "      <td>1.037042</td>\n",
              "      <td>0.100043</td>\n",
              "      <td>0.031143</td>\n",
              "      <td>-0.031810</td>\n",
              "      <td>0.016740</td>\n",
              "      <td>0.142360</td>\n",
              "    </tr>\n",
              "    <tr>\n",
              "      <th>away_score</th>\n",
              "      <td>0.100043</td>\n",
              "      <td>1.046951</td>\n",
              "      <td>-0.076975</td>\n",
              "      <td>-0.021132</td>\n",
              "      <td>0.026946</td>\n",
              "      <td>-0.165636</td>\n",
              "    </tr>\n",
              "    <tr>\n",
              "      <th>neutral</th>\n",
              "      <td>0.031143</td>\n",
              "      <td>-0.076975</td>\n",
              "      <td>1.019412</td>\n",
              "      <td>0.099739</td>\n",
              "      <td>-0.050513</td>\n",
              "      <td>0.006658</td>\n",
              "    </tr>\n",
              "    <tr>\n",
              "      <th>month</th>\n",
              "      <td>-0.031810</td>\n",
              "      <td>-0.021132</td>\n",
              "      <td>0.099739</td>\n",
              "      <td>1.011812</td>\n",
              "      <td>-0.001795</td>\n",
              "      <td>-0.030443</td>\n",
              "    </tr>\n",
              "    <tr>\n",
              "      <th>year</th>\n",
              "      <td>0.016740</td>\n",
              "      <td>0.026946</td>\n",
              "      <td>-0.050513</td>\n",
              "      <td>-0.001795</td>\n",
              "      <td>1.013915</td>\n",
              "      <td>-0.105300</td>\n",
              "    </tr>\n",
              "    <tr>\n",
              "      <th>hometeam_rank</th>\n",
              "      <td>0.142360</td>\n",
              "      <td>-0.165636</td>\n",
              "      <td>0.006658</td>\n",
              "      <td>-0.030443</td>\n",
              "      <td>-0.105300</td>\n",
              "      <td>1.062108</td>\n",
              "    </tr>\n",
              "  </tbody>\n",
              "</table>\n",
              "</div>"
            ],
            "text/plain": [
              "               home_score  away_score  ...      year  hometeam_rank\n",
              "home_score       1.037042    0.100043  ...  0.016740       0.142360\n",
              "away_score       0.100043    1.046951  ...  0.026946      -0.165636\n",
              "neutral          0.031143   -0.076975  ... -0.050513       0.006658\n",
              "month           -0.031810   -0.021132  ... -0.001795      -0.030443\n",
              "year             0.016740    0.026946  ...  1.013915      -0.105300\n",
              "hometeam_rank    0.142360   -0.165636  ... -0.105300       1.062108\n",
              "\n",
              "[6 rows x 6 columns]"
            ]
          },
          "metadata": {
            "tags": []
          },
          "execution_count": 165
        }
      ]
    },
    {
      "cell_type": "markdown",
      "metadata": {
        "id": "kqlD5kP-q8UT",
        "colab_type": "text"
      },
      "source": [
        "It improves just a bit showing home score and away team rank are collinear"
      ]
    },
    {
      "cell_type": "code",
      "metadata": {
        "id": "dTGc5cDrrS9X",
        "colab_type": "code",
        "colab": {}
      },
      "source": [
        "#Residual plots and heteroskedasticity testing"
      ],
      "execution_count": 0,
      "outputs": []
    },
    {
      "cell_type": "code",
      "metadata": {
        "id": "NLpVY8dNK3Ds",
        "colab_type": "code",
        "outputId": "47a7f8f6-3334-407e-ac75-a595241b825c",
        "colab": {
          "base_uri": "https://localhost:8080/",
          "height": 158
        }
      },
      "source": [
        "#getting the columns so as to perform polynomial regression\n",
        "#starting with predicting the homescore using the homerank\n",
        "X = df['hometeam_rank'].values.reshape(-1,1)\n",
        "y = df['home_score'].values\n",
        "print(X)\n",
        "print(y)"
      ],
      "execution_count": 0,
      "outputs": [
        {
          "output_type": "stream",
          "text": [
            "[[59.]\n",
            " [ 8.]\n",
            " [35.]\n",
            " ...\n",
            " [12.]\n",
            " [ 7.]\n",
            " [14.]]\n",
            "[3 1 5 ... 0 4 2]\n"
          ],
          "name": "stdout"
        }
      ]
    },
    {
      "cell_type": "code",
      "metadata": {
        "id": "uLLj4U4BK3CW",
        "colab_type": "code",
        "outputId": "6d07289b-4f99-4757-d4cc-c441295df6e7",
        "colab": {
          "base_uri": "https://localhost:8080/",
          "height": 294
        }
      },
      "source": [
        "#visualizing the dataset by plotting a scatter plot\n",
        "plt.scatter(X, y, color='green') \n",
        "plt.title('Home Score')\n",
        "plt.xlabel('Home Rank')\n",
        "plt.ylabel('Home Scores')\n",
        "plt.show()"
      ],
      "execution_count": 0,
      "outputs": [
        {
          "output_type": "display_data",
          "data": {
            "image/png": "[encoded data removed]",
            "text/plain": [
              "<Figure size 432x288 with 1 Axes>"
            ]
          },
          "metadata": {
            "tags": []
          }
        }
      ]
    },
    {
      "cell_type": "markdown",
      "metadata": {
        "id": "oWJkBSC-ZyKn",
        "colab_type": "text"
      },
      "source": [
        "From the scatter plot, the data does not appear to be linear and hence polynomial regression will be the best option."
      ]
    },
    {
      "cell_type": "code",
      "metadata": {
        "id": "2CSMz6FoK28_",
        "colab_type": "code",
        "outputId": "c8c19713-16ce-444c-baaf-6f51f2cb4e82",
        "colab": {
          "base_uri": "https://localhost:8080/",
          "height": 294
        }
      },
      "source": [
        "#Polynomial Regression\n",
        "# Split the dataset into train and test sets\n",
        "X_train, Y_train, X_test, Y_test = train_test_split(X,y, test_size = 0.2, random_state=0)\n",
        "\n",
        "# Fit polynomial Regression to the dataset\n",
        "poly_reg = PolynomialFeatures(degree = 10) \n",
        "X_poly = poly_reg.fit_transform(X)\n",
        "\n",
        "\n",
        "pol_reg = LinearRegression()\n",
        "pol_reg.fit(X_poly, y)\n",
        "\n",
        "#Visualize the Polynomial Regression results\n",
        "plt.scatter(X, y, color='blue') # You can put any color you like. This just helps us highlight the data points\n",
        "plt.plot(X, pol_reg.predict(X_poly), color='red')\n",
        "plt.title('Home Scores  (Polynomial Regression)')\n",
        "plt.xlabel('Home Rank')\n",
        "plt.ylabel('Home Score')\n",
        "plt.show()\n"
      ],
      "execution_count": 0,
      "outputs": [
        {
          "output_type": "display_data",
          "data": {
            "image/png": "[encoded data removed]",
            "text/plain": [
              "<Figure size 432x288 with 1 Axes>"
            ]
          },
          "metadata": {
            "tags": []
          }
        }
      ]
    },
    {
      "cell_type": "markdown",
      "metadata": {
        "id": "N_8KGAUP1Loe",
        "colab_type": "text"
      },
      "source": [
        "Looking at the graph, the polynomial graph does not give better results and I cannot draw a meaning conclusion from it since the curve is not passing through many points. The graph is not fully optiized.\n",
        "\n"
      ]
    },
    {
      "cell_type": "code",
      "metadata": {
        "id": "6cTDMRpFK262",
        "colab_type": "code",
        "outputId": "c96703d6-4c7a-4e24-b2b9-c7f49c66db3a",
        "colab": {
          "base_uri": "https://localhost:8080/",
          "height": 34
        }
      },
      "source": [
        "pol_reg.predict(poly_reg.fit_transform([[5.5]]))"
      ],
      "execution_count": 0,
      "outputs": [
        {
          "output_type": "execute_result",
          "data": {
            "text/plain": [
              "array([1.70280446])"
            ]
          },
          "metadata": {
            "tags": []
          },
          "execution_count": 123
        }
      ]
    },
    {
      "cell_type": "code",
      "metadata": {
        "id": "f7YSUzewFoHW",
        "colab_type": "code",
        "outputId": "8e725d7e-ba05-416d-f446-0bc3b89680fe",
        "colab": {
          "base_uri": "https://localhost:8080/",
          "height": 158
        }
      },
      "source": [
        "#getting the columns so as to perform polynomial regression\n",
        "#starting with predicting the homescore using the homerank\n",
        "X = df['awayteam_rank'].values.reshape(-1,1)\n",
        "y = df['away_score'].values\n",
        "print(X)\n",
        "print(y)\n"
      ],
      "execution_count": 0,
      "outputs": [
        {
          "output_type": "stream",
          "text": [
            "[[22.]\n",
            " [14.]\n",
            " [94.]\n",
            " ...\n",
            " [ 3.]\n",
            " [ 5.]\n",
            " [ 4.]]\n",
            "[1 1 0 ... 1 3 1]\n"
          ],
          "name": "stdout"
        }
      ]
    },
    {
      "cell_type": "code",
      "metadata": {
        "id": "kwv-YtewHDUK",
        "colab_type": "code",
        "outputId": "98e5bff4-2723-4aae-ca5d-7dcdb16f9ef0",
        "colab": {
          "base_uri": "https://localhost:8080/",
          "height": 294
        }
      },
      "source": [
        "#visualizing the dataset by plotting a scatter plot\n",
        "plt.scatter(X, y, color='green') \n",
        "plt.title('Away Score')\n",
        "plt.xlabel('Away Rank')\n",
        "plt.ylabel('Away Scores')\n",
        "plt.show()"
      ],
      "execution_count": 0,
      "outputs": [
        {
          "output_type": "display_data",
          "data": {
            "image/png": "[encoded data removed]",
            "text/plain": [
              "<Figure size 432x288 with 1 Axes>"
            ]
          },
          "metadata": {
            "tags": []
          }
        }
      ]
    },
    {
      "cell_type": "markdown",
      "metadata": {
        "id": "mlbLXEaCHLCK",
        "colab_type": "text"
      },
      "source": [
        "The same trend can be seen using the away score. "
      ]
    },
    {
      "cell_type": "markdown",
      "metadata": {
        "id": "Vt_kNkq0HSRp",
        "colab_type": "text"
      },
      "source": [
        "## Logistic Regression"
      ]
    },
    {
      "cell_type": "code",
      "metadata": {
        "id": "HwF8E0UkHvWj",
        "colab_type": "code",
        "outputId": "3601c148-02e8-4acd-adba-76eed8eb775f",
        "colab": {
          "base_uri": "https://localhost:8080/",
          "height": 264
        }
      },
      "source": [
        "df.head(5)"
      ],
      "execution_count": 0,
      "outputs": [
        {
          "output_type": "execute_result",
          "data": {
            "text/html": [
              "<div>\n",
              "<style scoped>\n",
              "    .dataframe tbody tr th:only-of-type {\n",
              "        vertical-align: middle;\n",
              "    }\n",
              "\n",
              "    .dataframe tbody tr th {\n",
              "        vertical-align: top;\n",
              "    }\n",
              "\n",
              "    .dataframe thead th {\n",
              "        text-align: right;\n",
              "    }\n",
              "</style>\n",
              "<table border=\"1\" class=\"dataframe\">\n",
              "  <thead>\n",
              "    <tr style=\"text-align: right;\">\n",
              "      <th></th>\n",
              "      <th>home_team</th>\n",
              "      <th>away_team</th>\n",
              "      <th>home_score</th>\n",
              "      <th>away_score</th>\n",
              "      <th>tournament</th>\n",
              "      <th>city</th>\n",
              "      <th>country</th>\n",
              "      <th>neutral</th>\n",
              "      <th>game_result</th>\n",
              "      <th>month</th>\n",
              "      <th>year</th>\n",
              "      <th>game</th>\n",
              "      <th>hometeam_rank</th>\n",
              "      <th>awayteam_rank</th>\n",
              "      <th>tourna</th>\n",
              "    </tr>\n",
              "  </thead>\n",
              "  <tbody>\n",
              "    <tr>\n",
              "      <th>0</th>\n",
              "      <td>Bolivia</td>\n",
              "      <td>Uruguay</td>\n",
              "      <td>3</td>\n",
              "      <td>1</td>\n",
              "      <td>FIFA World Cup qualification</td>\n",
              "      <td>La Paz</td>\n",
              "      <td>Bolivia</td>\n",
              "      <td>0</td>\n",
              "      <td>win</td>\n",
              "      <td>8</td>\n",
              "      <td>1993</td>\n",
              "      <td>Bolivia  vs  Uruguay</td>\n",
              "      <td>59.0</td>\n",
              "      <td>22.0</td>\n",
              "      <td>others</td>\n",
              "    </tr>\n",
              "    <tr>\n",
              "      <th>1</th>\n",
              "      <td>Brazil</td>\n",
              "      <td>Mexico</td>\n",
              "      <td>1</td>\n",
              "      <td>1</td>\n",
              "      <td>Friendly</td>\n",
              "      <td>Maceió</td>\n",
              "      <td>Brazil</td>\n",
              "      <td>0</td>\n",
              "      <td>draw</td>\n",
              "      <td>8</td>\n",
              "      <td>1993</td>\n",
              "      <td>Brazil  vs  Mexico</td>\n",
              "      <td>8.0</td>\n",
              "      <td>14.0</td>\n",
              "      <td>friendly</td>\n",
              "    </tr>\n",
              "    <tr>\n",
              "      <th>2</th>\n",
              "      <td>Ecuador</td>\n",
              "      <td>Venezuela</td>\n",
              "      <td>5</td>\n",
              "      <td>0</td>\n",
              "      <td>FIFA World Cup qualification</td>\n",
              "      <td>Quito</td>\n",
              "      <td>Ecuador</td>\n",
              "      <td>0</td>\n",
              "      <td>win</td>\n",
              "      <td>8</td>\n",
              "      <td>1993</td>\n",
              "      <td>Ecuador  vs  Venezuela</td>\n",
              "      <td>35.0</td>\n",
              "      <td>94.0</td>\n",
              "      <td>others</td>\n",
              "    </tr>\n",
              "    <tr>\n",
              "      <th>3</th>\n",
              "      <td>Guinea</td>\n",
              "      <td>Sierra Leone</td>\n",
              "      <td>1</td>\n",
              "      <td>0</td>\n",
              "      <td>Friendly</td>\n",
              "      <td>Conakry</td>\n",
              "      <td>Guinea</td>\n",
              "      <td>0</td>\n",
              "      <td>win</td>\n",
              "      <td>8</td>\n",
              "      <td>1993</td>\n",
              "      <td>Guinea  vs  Sierra Leone</td>\n",
              "      <td>65.0</td>\n",
              "      <td>86.0</td>\n",
              "      <td>friendly</td>\n",
              "    </tr>\n",
              "    <tr>\n",
              "      <th>4</th>\n",
              "      <td>Guinea</td>\n",
              "      <td>Sierra Leone</td>\n",
              "      <td>1</td>\n",
              "      <td>0</td>\n",
              "      <td>Friendly</td>\n",
              "      <td>Conakry</td>\n",
              "      <td>Guinea</td>\n",
              "      <td>0</td>\n",
              "      <td>win</td>\n",
              "      <td>8</td>\n",
              "      <td>1993</td>\n",
              "      <td>Guinea  vs  Sierra Leone</td>\n",
              "      <td>65.0</td>\n",
              "      <td>86.0</td>\n",
              "      <td>friendly</td>\n",
              "    </tr>\n",
              "  </tbody>\n",
              "</table>\n",
              "</div>"
            ],
            "text/plain": [
              "  home_team     away_team  home_score  ...  hometeam_rank awayteam_rank    tourna\n",
              "0   Bolivia       Uruguay           3  ...           59.0          22.0    others\n",
              "1    Brazil        Mexico           1  ...            8.0          14.0  friendly\n",
              "2   Ecuador     Venezuela           5  ...           35.0          94.0    others\n",
              "3    Guinea  Sierra Leone           1  ...           65.0          86.0  friendly\n",
              "4    Guinea  Sierra Leone           1  ...           65.0          86.0  friendly\n",
              "\n",
              "[5 rows x 15 columns]"
            ]
          },
          "metadata": {
            "tags": []
          },
          "execution_count": 130
        }
      ]
    },
    {
      "cell_type": "code",
      "metadata": {
        "id": "rfRTEI1CKhdb",
        "colab_type": "code",
        "outputId": "222d0251-8923-4fe7-cded-e8eaa4051eb7",
        "colab": {
          "base_uri": "https://localhost:8080/",
          "height": 87
        }
      },
      "source": [
        "df.columns"
      ],
      "execution_count": 0,
      "outputs": [
        {
          "output_type": "execute_result",
          "data": {
            "text/plain": [
              "Index(['home_team', 'away_team', 'home_score', 'away_score', 'tournament',\n",
              "       'city', 'country', 'neutral', 'game_result', 'month', 'year', 'game',\n",
              "       'hometeam_rank', 'awayteam_rank', 'tourna'],\n",
              "      dtype='object')"
            ]
          },
          "metadata": {
            "tags": []
          },
          "execution_count": 145
        }
      ]
    },
    {
      "cell_type": "code",
      "metadata": {
        "id": "fKUdpKwlKV3S",
        "colab_type": "code",
        "colab": {}
      },
      "source": [
        "#creating a dataframe that i shall use to train my logistic regression model\n",
        "newdf = df[['home_team', 'away_team', 'home_score', 'away_score', 'year', 'hometeam_rank', 'awayteam_rank', 'tourna','game_result']]"
      ],
      "execution_count": 0,
      "outputs": []
    },
    {
      "cell_type": "code",
      "metadata": {
        "id": "wMMqhutcK-QA",
        "colab_type": "code",
        "outputId": "0f433aa9-55e5-4bc8-dc06-75b58916b468",
        "colab": {
          "base_uri": "https://localhost:8080/",
          "height": 197
        }
      },
      "source": [
        "newdf.head()"
      ],
      "execution_count": 0,
      "outputs": [
        {
          "output_type": "execute_result",
          "data": {
            "text/html": [
              "<div>\n",
              "<style scoped>\n",
              "    .dataframe tbody tr th:only-of-type {\n",
              "        vertical-align: middle;\n",
              "    }\n",
              "\n",
              "    .dataframe tbody tr th {\n",
              "        vertical-align: top;\n",
              "    }\n",
              "\n",
              "    .dataframe thead th {\n",
              "        text-align: right;\n",
              "    }\n",
              "</style>\n",
              "<table border=\"1\" class=\"dataframe\">\n",
              "  <thead>\n",
              "    <tr style=\"text-align: right;\">\n",
              "      <th></th>\n",
              "      <th>home_team</th>\n",
              "      <th>away_team</th>\n",
              "      <th>home_score</th>\n",
              "      <th>away_score</th>\n",
              "      <th>year</th>\n",
              "      <th>hometeam_rank</th>\n",
              "      <th>awayteam_rank</th>\n",
              "      <th>tourna</th>\n",
              "      <th>game_result</th>\n",
              "    </tr>\n",
              "  </thead>\n",
              "  <tbody>\n",
              "    <tr>\n",
              "      <th>0</th>\n",
              "      <td>Bolivia</td>\n",
              "      <td>Uruguay</td>\n",
              "      <td>3</td>\n",
              "      <td>1</td>\n",
              "      <td>1993</td>\n",
              "      <td>59.0</td>\n",
              "      <td>22.0</td>\n",
              "      <td>others</td>\n",
              "      <td>0</td>\n",
              "    </tr>\n",
              "    <tr>\n",
              "      <th>1</th>\n",
              "      <td>Brazil</td>\n",
              "      <td>Mexico</td>\n",
              "      <td>1</td>\n",
              "      <td>1</td>\n",
              "      <td>1993</td>\n",
              "      <td>8.0</td>\n",
              "      <td>14.0</td>\n",
              "      <td>friendly</td>\n",
              "      <td>1</td>\n",
              "    </tr>\n",
              "    <tr>\n",
              "      <th>2</th>\n",
              "      <td>Ecuador</td>\n",
              "      <td>Venezuela</td>\n",
              "      <td>5</td>\n",
              "      <td>0</td>\n",
              "      <td>1993</td>\n",
              "      <td>35.0</td>\n",
              "      <td>94.0</td>\n",
              "      <td>others</td>\n",
              "      <td>0</td>\n",
              "    </tr>\n",
              "    <tr>\n",
              "      <th>3</th>\n",
              "      <td>Guinea</td>\n",
              "      <td>Sierra Leone</td>\n",
              "      <td>1</td>\n",
              "      <td>0</td>\n",
              "      <td>1993</td>\n",
              "      <td>65.0</td>\n",
              "      <td>86.0</td>\n",
              "      <td>friendly</td>\n",
              "      <td>0</td>\n",
              "    </tr>\n",
              "    <tr>\n",
              "      <th>4</th>\n",
              "      <td>Guinea</td>\n",
              "      <td>Sierra Leone</td>\n",
              "      <td>1</td>\n",
              "      <td>0</td>\n",
              "      <td>1993</td>\n",
              "      <td>65.0</td>\n",
              "      <td>86.0</td>\n",
              "      <td>friendly</td>\n",
              "      <td>0</td>\n",
              "    </tr>\n",
              "  </tbody>\n",
              "</table>\n",
              "</div>"
            ],
            "text/plain": [
              "  home_team     away_team  home_score  ...  awayteam_rank    tourna  game_result\n",
              "0   Bolivia       Uruguay           3  ...           22.0    others            0\n",
              "1    Brazil        Mexico           1  ...           14.0  friendly            1\n",
              "2   Ecuador     Venezuela           5  ...           94.0    others            0\n",
              "3    Guinea  Sierra Leone           1  ...           86.0  friendly            0\n",
              "4    Guinea  Sierra Leone           1  ...           86.0  friendly            0\n",
              "\n",
              "[5 rows x 9 columns]"
            ]
          },
          "metadata": {
            "tags": []
          },
          "execution_count": 147
        }
      ]
    },
    {
      "cell_type": "code",
      "metadata": {
        "id": "68cvni6TL2oE",
        "colab_type": "code",
        "outputId": "b72bb99d-62a4-427a-b9b4-ad7c973a42f9",
        "colab": {
          "base_uri": "https://localhost:8080/",
          "height": 358
        }
      },
      "source": [
        "# Checking for independence between features\n",
        "# \n",
        "sns.heatmap(newdf.corr())  "
      ],
      "execution_count": 0,
      "outputs": [
        {
          "output_type": "execute_result",
          "data": {
            "text/plain": [
              "<matplotlib.axes._subplots.AxesSubplot at 0x7fc71978a978>"
            ]
          },
          "metadata": {
            "tags": []
          },
          "execution_count": 169
        },
        {
          "output_type": "display_data",
          "data": {
            "image/png": "[encoded data removed]",
            "text/plain": [
              "<Figure size 432x288 with 2 Axes>"
            ]
          },
          "metadata": {
            "tags": []
          }
        }
      ]
    },
    {
      "cell_type": "code",
      "metadata": {
        "id": "dwcXoWd8Swpo",
        "colab_type": "code",
        "outputId": "ef10a61f-ff6e-49f8-9b3f-189a37f6cd8f",
        "colab": {
          "base_uri": "https://localhost:8080/",
          "height": 87
        }
      },
      "source": [
        "df.columns"
      ],
      "execution_count": 0,
      "outputs": [
        {
          "output_type": "execute_result",
          "data": {
            "text/plain": [
              "Index(['home_team', 'away_team', 'home_score', 'away_score', 'tournament',\n",
              "       'city', 'country', 'neutral', 'game_result', 'month', 'year', 'game',\n",
              "       'hometeam_rank', 'awayteam_rank', 'tourna'],\n",
              "      dtype='object')"
            ]
          },
          "metadata": {
            "tags": []
          },
          "execution_count": 197
        }
      ]
    },
    {
      "cell_type": "code",
      "metadata": {
        "id": "754wCWZaL2dO",
        "colab_type": "code",
        "outputId": "8dfa6ac9-c7b3-4b6e-9861-650817581d5f",
        "colab": {
          "base_uri": "https://localhost:8080/",
          "height": 280
        }
      },
      "source": [
        "# Splitting our dataset\n",
        "#\n",
        "X = newdf.drop(['game_result','home_score','away_score'],axis=1)\n",
        "y = newdf['game_result']\n",
        "\n",
        "#encoding the features\n",
        "X = pd.get_dummies(X, drop_first=True)\n",
        "X.head()\n"
      ],
      "execution_count": 0,
      "outputs": [
        {
          "output_type": "execute_result",
          "data": {
            "text/html": [
              "<div>\n",
              "<style scoped>\n",
              "    .dataframe tbody tr th:only-of-type {\n",
              "        vertical-align: middle;\n",
              "    }\n",
              "\n",
              "    .dataframe tbody tr th {\n",
              "        vertical-align: top;\n",
              "    }\n",
              "\n",
              "    .dataframe thead th {\n",
              "        text-align: right;\n",
              "    }\n",
              "</style>\n",
              "<table border=\"1\" class=\"dataframe\">\n",
              "  <thead>\n",
              "    <tr style=\"text-align: right;\">\n",
              "      <th></th>\n",
              "      <th>year</th>\n",
              "      <th>hometeam_rank</th>\n",
              "      <th>awayteam_rank</th>\n",
              "      <th>home_team_Albania</th>\n",
              "      <th>home_team_Algeria</th>\n",
              "      <th>home_team_American Samoa</th>\n",
              "      <th>home_team_Andorra</th>\n",
              "      <th>home_team_Angola</th>\n",
              "      <th>home_team_Anguilla</th>\n",
              "      <th>home_team_Antigua and Barbuda</th>\n",
              "      <th>home_team_Argentina</th>\n",
              "      <th>home_team_Armenia</th>\n",
              "      <th>home_team_Aruba</th>\n",
              "      <th>home_team_Australia</th>\n",
              "      <th>home_team_Austria</th>\n",
              "      <th>home_team_Azerbaijan</th>\n",
              "      <th>home_team_Bahamas</th>\n",
              "      <th>home_team_Bahrain</th>\n",
              "      <th>home_team_Bangladesh</th>\n",
              "      <th>home_team_Barbados</th>\n",
              "      <th>home_team_Belarus</th>\n",
              "      <th>home_team_Belgium</th>\n",
              "      <th>home_team_Belize</th>\n",
              "      <th>home_team_Benin</th>\n",
              "      <th>home_team_Bermuda</th>\n",
              "      <th>home_team_Bhutan</th>\n",
              "      <th>home_team_Bolivia</th>\n",
              "      <th>home_team_Bosnia and Herzegovina</th>\n",
              "      <th>home_team_Botswana</th>\n",
              "      <th>home_team_Brazil</th>\n",
              "      <th>home_team_British Virgin Islands</th>\n",
              "      <th>home_team_Bulgaria</th>\n",
              "      <th>home_team_Burkina Faso</th>\n",
              "      <th>home_team_Burundi</th>\n",
              "      <th>home_team_Cambodia</th>\n",
              "      <th>home_team_Cameroon</th>\n",
              "      <th>home_team_Canada</th>\n",
              "      <th>home_team_Cayman Islands</th>\n",
              "      <th>home_team_Central African Republic</th>\n",
              "      <th>home_team_Chad</th>\n",
              "      <th>...</th>\n",
              "      <th>away_team_Seychelles</th>\n",
              "      <th>away_team_Sierra Leone</th>\n",
              "      <th>away_team_Singapore</th>\n",
              "      <th>away_team_Slovakia</th>\n",
              "      <th>away_team_Slovenia</th>\n",
              "      <th>away_team_Solomon Islands</th>\n",
              "      <th>away_team_Somalia</th>\n",
              "      <th>away_team_South Africa</th>\n",
              "      <th>away_team_South Sudan</th>\n",
              "      <th>away_team_Spain</th>\n",
              "      <th>away_team_Sri Lanka</th>\n",
              "      <th>away_team_Sudan</th>\n",
              "      <th>away_team_Suriname</th>\n",
              "      <th>away_team_Sweden</th>\n",
              "      <th>away_team_Switzerland</th>\n",
              "      <th>away_team_Syria</th>\n",
              "      <th>away_team_Tahiti</th>\n",
              "      <th>away_team_Tajikistan</th>\n",
              "      <th>away_team_Tanzania</th>\n",
              "      <th>away_team_Thailand</th>\n",
              "      <th>away_team_Togo</th>\n",
              "      <th>away_team_Tonga</th>\n",
              "      <th>away_team_Trinidad and Tobago</th>\n",
              "      <th>away_team_Tunisia</th>\n",
              "      <th>away_team_Turkey</th>\n",
              "      <th>away_team_Turkmenistan</th>\n",
              "      <th>away_team_Turks and Caicos Islands</th>\n",
              "      <th>away_team_Uganda</th>\n",
              "      <th>away_team_Ukraine</th>\n",
              "      <th>away_team_United Arab Emirates</th>\n",
              "      <th>away_team_Uruguay</th>\n",
              "      <th>away_team_Uzbekistan</th>\n",
              "      <th>away_team_Vanuatu</th>\n",
              "      <th>away_team_Venezuela</th>\n",
              "      <th>away_team_Vietnam</th>\n",
              "      <th>away_team_Wales</th>\n",
              "      <th>away_team_Yemen</th>\n",
              "      <th>away_team_Zambia</th>\n",
              "      <th>away_team_Zimbabwe</th>\n",
              "      <th>tourna_others</th>\n",
              "    </tr>\n",
              "  </thead>\n",
              "  <tbody>\n",
              "    <tr>\n",
              "      <th>0</th>\n",
              "      <td>1993</td>\n",
              "      <td>59.0</td>\n",
              "      <td>22.0</td>\n",
              "      <td>0</td>\n",
              "      <td>0</td>\n",
              "      <td>0</td>\n",
              "      <td>0</td>\n",
              "      <td>0</td>\n",
              "      <td>0</td>\n",
              "      <td>0</td>\n",
              "      <td>0</td>\n",
              "      <td>0</td>\n",
              "      <td>0</td>\n",
              "      <td>0</td>\n",
              "      <td>0</td>\n",
              "      <td>0</td>\n",
              "      <td>0</td>\n",
              "      <td>0</td>\n",
              "      <td>0</td>\n",
              "      <td>0</td>\n",
              "      <td>0</td>\n",
              "      <td>0</td>\n",
              "      <td>0</td>\n",
              "      <td>0</td>\n",
              "      <td>0</td>\n",
              "      <td>0</td>\n",
              "      <td>1</td>\n",
              "      <td>0</td>\n",
              "      <td>0</td>\n",
              "      <td>0</td>\n",
              "      <td>0</td>\n",
              "      <td>0</td>\n",
              "      <td>0</td>\n",
              "      <td>0</td>\n",
              "      <td>0</td>\n",
              "      <td>0</td>\n",
              "      <td>0</td>\n",
              "      <td>0</td>\n",
              "      <td>0</td>\n",
              "      <td>0</td>\n",
              "      <td>...</td>\n",
              "      <td>0</td>\n",
              "      <td>0</td>\n",
              "      <td>0</td>\n",
              "      <td>0</td>\n",
              "      <td>0</td>\n",
              "      <td>0</td>\n",
              "      <td>0</td>\n",
              "      <td>0</td>\n",
              "      <td>0</td>\n",
              "      <td>0</td>\n",
              "      <td>0</td>\n",
              "      <td>0</td>\n",
              "      <td>0</td>\n",
              "      <td>0</td>\n",
              "      <td>0</td>\n",
              "      <td>0</td>\n",
              "      <td>0</td>\n",
              "      <td>0</td>\n",
              "      <td>0</td>\n",
              "      <td>0</td>\n",
              "      <td>0</td>\n",
              "      <td>0</td>\n",
              "      <td>0</td>\n",
              "      <td>0</td>\n",
              "      <td>0</td>\n",
              "      <td>0</td>\n",
              "      <td>0</td>\n",
              "      <td>0</td>\n",
              "      <td>0</td>\n",
              "      <td>0</td>\n",
              "      <td>1</td>\n",
              "      <td>0</td>\n",
              "      <td>0</td>\n",
              "      <td>0</td>\n",
              "      <td>0</td>\n",
              "      <td>0</td>\n",
              "      <td>0</td>\n",
              "      <td>0</td>\n",
              "      <td>0</td>\n",
              "      <td>1</td>\n",
              "    </tr>\n",
              "    <tr>\n",
              "      <th>1</th>\n",
              "      <td>1993</td>\n",
              "      <td>8.0</td>\n",
              "      <td>14.0</td>\n",
              "      <td>0</td>\n",
              "      <td>0</td>\n",
              "      <td>0</td>\n",
              "      <td>0</td>\n",
              "      <td>0</td>\n",
              "      <td>0</td>\n",
              "      <td>0</td>\n",
              "      <td>0</td>\n",
              "      <td>0</td>\n",
              "      <td>0</td>\n",
              "      <td>0</td>\n",
              "      <td>0</td>\n",
              "      <td>0</td>\n",
              "      <td>0</td>\n",
              "      <td>0</td>\n",
              "      <td>0</td>\n",
              "      <td>0</td>\n",
              "      <td>0</td>\n",
              "      <td>0</td>\n",
              "      <td>0</td>\n",
              "      <td>0</td>\n",
              "      <td>0</td>\n",
              "      <td>0</td>\n",
              "      <td>0</td>\n",
              "      <td>0</td>\n",
              "      <td>0</td>\n",
              "      <td>1</td>\n",
              "      <td>0</td>\n",
              "      <td>0</td>\n",
              "      <td>0</td>\n",
              "      <td>0</td>\n",
              "      <td>0</td>\n",
              "      <td>0</td>\n",
              "      <td>0</td>\n",
              "      <td>0</td>\n",
              "      <td>0</td>\n",
              "      <td>0</td>\n",
              "      <td>...</td>\n",
              "      <td>0</td>\n",
              "      <td>0</td>\n",
              "      <td>0</td>\n",
              "      <td>0</td>\n",
              "      <td>0</td>\n",
              "      <td>0</td>\n",
              "      <td>0</td>\n",
              "      <td>0</td>\n",
              "      <td>0</td>\n",
              "      <td>0</td>\n",
              "      <td>0</td>\n",
              "      <td>0</td>\n",
              "      <td>0</td>\n",
              "      <td>0</td>\n",
              "      <td>0</td>\n",
              "      <td>0</td>\n",
              "      <td>0</td>\n",
              "      <td>0</td>\n",
              "      <td>0</td>\n",
              "      <td>0</td>\n",
              "      <td>0</td>\n",
              "      <td>0</td>\n",
              "      <td>0</td>\n",
              "      <td>0</td>\n",
              "      <td>0</td>\n",
              "      <td>0</td>\n",
              "      <td>0</td>\n",
              "      <td>0</td>\n",
              "      <td>0</td>\n",
              "      <td>0</td>\n",
              "      <td>0</td>\n",
              "      <td>0</td>\n",
              "      <td>0</td>\n",
              "      <td>0</td>\n",
              "      <td>0</td>\n",
              "      <td>0</td>\n",
              "      <td>0</td>\n",
              "      <td>0</td>\n",
              "      <td>0</td>\n",
              "      <td>0</td>\n",
              "    </tr>\n",
              "    <tr>\n",
              "      <th>2</th>\n",
              "      <td>1993</td>\n",
              "      <td>35.0</td>\n",
              "      <td>94.0</td>\n",
              "      <td>0</td>\n",
              "      <td>0</td>\n",
              "      <td>0</td>\n",
              "      <td>0</td>\n",
              "      <td>0</td>\n",
              "      <td>0</td>\n",
              "      <td>0</td>\n",
              "      <td>0</td>\n",
              "      <td>0</td>\n",
              "      <td>0</td>\n",
              "      <td>0</td>\n",
              "      <td>0</td>\n",
              "      <td>0</td>\n",
              "      <td>0</td>\n",
              "      <td>0</td>\n",
              "      <td>0</td>\n",
              "      <td>0</td>\n",
              "      <td>0</td>\n",
              "      <td>0</td>\n",
              "      <td>0</td>\n",
              "      <td>0</td>\n",
              "      <td>0</td>\n",
              "      <td>0</td>\n",
              "      <td>0</td>\n",
              "      <td>0</td>\n",
              "      <td>0</td>\n",
              "      <td>0</td>\n",
              "      <td>0</td>\n",
              "      <td>0</td>\n",
              "      <td>0</td>\n",
              "      <td>0</td>\n",
              "      <td>0</td>\n",
              "      <td>0</td>\n",
              "      <td>0</td>\n",
              "      <td>0</td>\n",
              "      <td>0</td>\n",
              "      <td>0</td>\n",
              "      <td>...</td>\n",
              "      <td>0</td>\n",
              "      <td>0</td>\n",
              "      <td>0</td>\n",
              "      <td>0</td>\n",
              "      <td>0</td>\n",
              "      <td>0</td>\n",
              "      <td>0</td>\n",
              "      <td>0</td>\n",
              "      <td>0</td>\n",
              "      <td>0</td>\n",
              "      <td>0</td>\n",
              "      <td>0</td>\n",
              "      <td>0</td>\n",
              "      <td>0</td>\n",
              "      <td>0</td>\n",
              "      <td>0</td>\n",
              "      <td>0</td>\n",
              "      <td>0</td>\n",
              "      <td>0</td>\n",
              "      <td>0</td>\n",
              "      <td>0</td>\n",
              "      <td>0</td>\n",
              "      <td>0</td>\n",
              "      <td>0</td>\n",
              "      <td>0</td>\n",
              "      <td>0</td>\n",
              "      <td>0</td>\n",
              "      <td>0</td>\n",
              "      <td>0</td>\n",
              "      <td>0</td>\n",
              "      <td>0</td>\n",
              "      <td>0</td>\n",
              "      <td>0</td>\n",
              "      <td>1</td>\n",
              "      <td>0</td>\n",
              "      <td>0</td>\n",
              "      <td>0</td>\n",
              "      <td>0</td>\n",
              "      <td>0</td>\n",
              "      <td>1</td>\n",
              "    </tr>\n",
              "    <tr>\n",
              "      <th>3</th>\n",
              "      <td>1993</td>\n",
              "      <td>65.0</td>\n",
              "      <td>86.0</td>\n",
              "      <td>0</td>\n",
              "      <td>0</td>\n",
              "      <td>0</td>\n",
              "      <td>0</td>\n",
              "      <td>0</td>\n",
              "      <td>0</td>\n",
              "      <td>0</td>\n",
              "      <td>0</td>\n",
              "      <td>0</td>\n",
              "      <td>0</td>\n",
              "      <td>0</td>\n",
              "      <td>0</td>\n",
              "      <td>0</td>\n",
              "      <td>0</td>\n",
              "      <td>0</td>\n",
              "      <td>0</td>\n",
              "      <td>0</td>\n",
              "      <td>0</td>\n",
              "      <td>0</td>\n",
              "      <td>0</td>\n",
              "      <td>0</td>\n",
              "      <td>0</td>\n",
              "      <td>0</td>\n",
              "      <td>0</td>\n",
              "      <td>0</td>\n",
              "      <td>0</td>\n",
              "      <td>0</td>\n",
              "      <td>0</td>\n",
              "      <td>0</td>\n",
              "      <td>0</td>\n",
              "      <td>0</td>\n",
              "      <td>0</td>\n",
              "      <td>0</td>\n",
              "      <td>0</td>\n",
              "      <td>0</td>\n",
              "      <td>0</td>\n",
              "      <td>0</td>\n",
              "      <td>...</td>\n",
              "      <td>0</td>\n",
              "      <td>1</td>\n",
              "      <td>0</td>\n",
              "      <td>0</td>\n",
              "      <td>0</td>\n",
              "      <td>0</td>\n",
              "      <td>0</td>\n",
              "      <td>0</td>\n",
              "      <td>0</td>\n",
              "      <td>0</td>\n",
              "      <td>0</td>\n",
              "      <td>0</td>\n",
              "      <td>0</td>\n",
              "      <td>0</td>\n",
              "      <td>0</td>\n",
              "      <td>0</td>\n",
              "      <td>0</td>\n",
              "      <td>0</td>\n",
              "      <td>0</td>\n",
              "      <td>0</td>\n",
              "      <td>0</td>\n",
              "      <td>0</td>\n",
              "      <td>0</td>\n",
              "      <td>0</td>\n",
              "      <td>0</td>\n",
              "      <td>0</td>\n",
              "      <td>0</td>\n",
              "      <td>0</td>\n",
              "      <td>0</td>\n",
              "      <td>0</td>\n",
              "      <td>0</td>\n",
              "      <td>0</td>\n",
              "      <td>0</td>\n",
              "      <td>0</td>\n",
              "      <td>0</td>\n",
              "      <td>0</td>\n",
              "      <td>0</td>\n",
              "      <td>0</td>\n",
              "      <td>0</td>\n",
              "      <td>0</td>\n",
              "    </tr>\n",
              "    <tr>\n",
              "      <th>4</th>\n",
              "      <td>1993</td>\n",
              "      <td>65.0</td>\n",
              "      <td>86.0</td>\n",
              "      <td>0</td>\n",
              "      <td>0</td>\n",
              "      <td>0</td>\n",
              "      <td>0</td>\n",
              "      <td>0</td>\n",
              "      <td>0</td>\n",
              "      <td>0</td>\n",
              "      <td>0</td>\n",
              "      <td>0</td>\n",
              "      <td>0</td>\n",
              "      <td>0</td>\n",
              "      <td>0</td>\n",
              "      <td>0</td>\n",
              "      <td>0</td>\n",
              "      <td>0</td>\n",
              "      <td>0</td>\n",
              "      <td>0</td>\n",
              "      <td>0</td>\n",
              "      <td>0</td>\n",
              "      <td>0</td>\n",
              "      <td>0</td>\n",
              "      <td>0</td>\n",
              "      <td>0</td>\n",
              "      <td>0</td>\n",
              "      <td>0</td>\n",
              "      <td>0</td>\n",
              "      <td>0</td>\n",
              "      <td>0</td>\n",
              "      <td>0</td>\n",
              "      <td>0</td>\n",
              "      <td>0</td>\n",
              "      <td>0</td>\n",
              "      <td>0</td>\n",
              "      <td>0</td>\n",
              "      <td>0</td>\n",
              "      <td>0</td>\n",
              "      <td>0</td>\n",
              "      <td>...</td>\n",
              "      <td>0</td>\n",
              "      <td>1</td>\n",
              "      <td>0</td>\n",
              "      <td>0</td>\n",
              "      <td>0</td>\n",
              "      <td>0</td>\n",
              "      <td>0</td>\n",
              "      <td>0</td>\n",
              "      <td>0</td>\n",
              "      <td>0</td>\n",
              "      <td>0</td>\n",
              "      <td>0</td>\n",
              "      <td>0</td>\n",
              "      <td>0</td>\n",
              "      <td>0</td>\n",
              "      <td>0</td>\n",
              "      <td>0</td>\n",
              "      <td>0</td>\n",
              "      <td>0</td>\n",
              "      <td>0</td>\n",
              "      <td>0</td>\n",
              "      <td>0</td>\n",
              "      <td>0</td>\n",
              "      <td>0</td>\n",
              "      <td>0</td>\n",
              "      <td>0</td>\n",
              "      <td>0</td>\n",
              "      <td>0</td>\n",
              "      <td>0</td>\n",
              "      <td>0</td>\n",
              "      <td>0</td>\n",
              "      <td>0</td>\n",
              "      <td>0</td>\n",
              "      <td>0</td>\n",
              "      <td>0</td>\n",
              "      <td>0</td>\n",
              "      <td>0</td>\n",
              "      <td>0</td>\n",
              "      <td>0</td>\n",
              "      <td>0</td>\n",
              "    </tr>\n",
              "  </tbody>\n",
              "</table>\n",
              "<p>5 rows × 388 columns</p>\n",
              "</div>"
            ],
            "text/plain": [
              "   year  hometeam_rank  ...  away_team_Zimbabwe  tourna_others\n",
              "0  1993           59.0  ...                   0              1\n",
              "1  1993            8.0  ...                   0              0\n",
              "2  1993           35.0  ...                   0              1\n",
              "3  1993           65.0  ...                   0              0\n",
              "4  1993           65.0  ...                   0              0\n",
              "\n",
              "[5 rows x 388 columns]"
            ]
          },
          "metadata": {
            "tags": []
          },
          "execution_count": 199
        }
      ]
    },
    {
      "cell_type": "code",
      "metadata": {
        "id": "-ly0U_T0PPZS",
        "colab_type": "code",
        "outputId": "1f5d5f0f-5ac2-4887-f6e5-a086435c5f70",
        "colab": {
          "base_uri": "https://localhost:8080/",
          "height": 105
        }
      },
      "source": [
        "X_train, X_test, y_train, y_test = train_test_split(X, y, test_size = 0.2, random_state=25)\n",
        "#fitting the model\n",
        "LogReg = LogisticRegression()\n",
        "LogReg.fit(X_train, y_train)"
      ],
      "execution_count": 0,
      "outputs": [
        {
          "output_type": "execute_result",
          "data": {
            "text/plain": [
              "LogisticRegression(C=1.0, class_weight=None, dual=False, fit_intercept=True,\n",
              "                   intercept_scaling=1, l1_ratio=None, max_iter=100,\n",
              "                   multi_class='warn', n_jobs=None, penalty='l2',\n",
              "                   random_state=None, solver='warn', tol=0.0001, verbose=0,\n",
              "                   warm_start=False)"
            ]
          },
          "metadata": {
            "tags": []
          },
          "execution_count": 200
        }
      ]
    },
    {
      "cell_type": "code",
      "metadata": {
        "id": "dOl1gUw3HKvy",
        "colab_type": "code",
        "outputId": "bb30b923-f206-4f2f-9d07-5ad34e42f1df",
        "colab": {
          "base_uri": "https://localhost:8080/",
          "height": 70
        }
      },
      "source": [
        "# Using our model to make a prediction\n",
        "y_pred = LogReg.predict(X_test)\n",
        "y_pred\n",
        "#Evaluating the model\n",
        "confusion_matrix = confusion_matrix(y_test, y_pred)\n",
        "confusion_matrix"
      ],
      "execution_count": 0,
      "outputs": [
        {
          "output_type": "execute_result",
          "data": {
            "text/plain": [
              "array([[   6,  289,  550],\n",
              "       [   2,  542,  442],\n",
              "       [   4,  228, 1351]])"
            ]
          },
          "metadata": {
            "tags": []
          },
          "execution_count": 201
        }
      ]
    },
    {
      "cell_type": "code",
      "metadata": {
        "id": "wn3wBgPdHDSk",
        "colab_type": "code",
        "outputId": "a2fa36c6-a6c3-4735-9f88-64ae20fe2f9d",
        "colab": {
          "base_uri": "https://localhost:8080/",
          "height": 34
        }
      },
      "source": [
        "accuracy_score(y_pred,y_test)"
      ],
      "execution_count": 0,
      "outputs": [
        {
          "output_type": "execute_result",
          "data": {
            "text/plain": [
              "0.5562390158172232"
            ]
          },
          "metadata": {
            "tags": []
          },
          "execution_count": 202
        }
      ]
    },
    {
      "cell_type": "markdown",
      "metadata": {
        "id": "Daa7y_0WTMKA",
        "colab_type": "text"
      },
      "source": [
        "Accuracy score is 55.6% which is low and cannot be used to make correct predictions. Probably more data needs to be sought so as to improve the model."
      ]
    },
    {
      "cell_type": "code",
      "metadata": {
        "id": "AyrlIRX7ccHK",
        "colab_type": "code",
        "colab": {}
      },
      "source": [
        ""
      ],
      "execution_count": 0,
      "outputs": []
    }
  ]
}