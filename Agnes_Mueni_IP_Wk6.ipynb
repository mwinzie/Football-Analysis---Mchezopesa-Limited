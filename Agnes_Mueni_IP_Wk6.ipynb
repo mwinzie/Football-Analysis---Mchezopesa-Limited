{
  "nbformat": 4,
  "nbformat_minor": 0,
  "metadata": {
    "colab": {
      "name": "Agnes Mueni IP Wk6.ipynb",
      "version": "0.3.2",
      "provenance": [],
      "include_colab_link": true
    },
    "kernelspec": {
      "name": "python3",
      "display_name": "Python 3"
    },
    "accelerator": "GPU"
  },
  "cells": [
    {
      "cell_type": "markdown",
      "metadata": {
        "id": "view-in-github",
        "colab_type": "text"
      },
      "source": [
        "<a href=\"https://colab.research.google.com/github/mwinzie/Football-Analysis-Mchezopesa-Limited/blob/master/Agnes_Mueni_IP_Wk6.ipynb\" target=\"_parent\"><img src=\"https://colab.research.google.com/assets/colab-badge.svg\" alt=\"Open In Colab\"/></a>"
      ]
    },
    {
      "cell_type": "code",
      "metadata": {
        "id": "MzPwZs2cCrfO",
        "colab_type": "code",
        "colab": {}
      },
      "source": [
        "import pandas as pd\n",
        "import numpy as np\n",
        "import seaborn as sns"
      ],
      "execution_count": 0,
      "outputs": []
    },
    {
      "cell_type": "code",
      "metadata": {
        "id": "365qQ2B6DCAn",
        "colab_type": "code",
        "colab": {}
      },
      "source": [
        "ranking = pd.read_csv('fifa_ranking.csv')\n",
        "results = pd.read_csv('results.csv')"
      ],
      "execution_count": 0,
      "outputs": []
    },
    {
      "cell_type": "code",
      "metadata": {
        "id": "-MxFCgNWEGdx",
        "colab_type": "code",
        "colab": {
          "base_uri": "https://localhost:8080/",
          "height": 301
        },
        "outputId": "2b8e53c7-ee45-4b95-ab36-082c3dd3d5d0"
      },
      "source": [
        "print(ranking.head(n = 5))\n",
        "print(results.head(n = 5))"
      ],
      "execution_count": 4,
      "outputs": [
        {
          "output_type": "stream",
          "text": [
            "   rank country_full  ... confederation   rank_date\n",
            "0     1      Germany  ...          UEFA  1993-08-08\n",
            "1     2        Italy  ...          UEFA  1993-08-08\n",
            "2     3  Switzerland  ...          UEFA  1993-08-08\n",
            "3     4       Sweden  ...          UEFA  1993-08-08\n",
            "4     5    Argentina  ...      CONMEBOL  1993-08-08\n",
            "\n",
            "[5 rows x 16 columns]\n",
            "         date home_team away_team  ...     city   country neutral\n",
            "0  1872-11-30  Scotland   England  ...  Glasgow  Scotland   False\n",
            "1  1873-03-08   England  Scotland  ...   London   England   False\n",
            "2  1874-03-07  Scotland   England  ...  Glasgow  Scotland   False\n",
            "3  1875-03-06   England  Scotland  ...   London   England   False\n",
            "4  1876-03-04  Scotland   England  ...  Glasgow  Scotland   False\n",
            "\n",
            "[5 rows x 9 columns]\n"
          ],
          "name": "stdout"
        }
      ]
    },
    {
      "cell_type": "code",
      "metadata": {
        "id": "Evw4kTJZEYMo",
        "colab_type": "code",
        "colab": {}
      },
      "source": [
        ""
      ],
      "execution_count": 0,
      "outputs": []
    }
  ]
}